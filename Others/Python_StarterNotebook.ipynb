{
  "nbformat": 4,
  "nbformat_minor": 0,
  "metadata": {
    "kernelspec": {
      "display_name": "Python 3",
      "language": "python",
      "name": "python3"
    },
    "language_info": {
      "codemirror_mode": {
        "name": "ipython",
        "version": 3
      },
      "file_extension": ".py",
      "mimetype": "text/x-python",
      "name": "python",
      "nbconvert_exporter": "python",
      "pygments_lexer": "ipython3",
      "version": "3.7.3"
    },
    "colab": {
      "name": "AXA-Python_StarterNotebook.ipynb",
      "provenance": [],
      "collapsed_sections": []
    }
  },
  "cells": [
    {
      "cell_type": "markdown",
      "metadata": {
        "id": "48S6RVt_jXwp"
      },
      "source": [
        "# AutoInland Vehicle Insurance Claim Challenge StarterNotebook - Python\r\n",
        "\r\n",
        "This is a simple starter notebook to get started with the AutoInland Vehicle Insurance Claim Challenge on Zindi.\r\n",
        "\r\n",
        "This notebook covers:\r\n",
        "- Loading the data\r\n",
        "- Simple EDA and an example of feature enginnering\r\n",
        "- Data preprocessing and data wrangling\r\n",
        "- Creating a simple model\r\n",
        "- Making a submission\r\n",
        "- Some tips for improving your score"
      ]
    },
    {
      "cell_type": "markdown",
      "metadata": {
        "id": "HdPjBTFdkI7t"
      },
      "source": [
        "### Importing libraries"
      ]
    },
    {
      "cell_type": "code",
      "metadata": {
        "id": "8IWFJK2h22yc"
      },
      "source": [
        "import pandas as pd\n",
        "import numpy as np\n",
        "import datetime as dt\n",
        "from tqdm.notebook import tqdm_notebook\n",
        "import seaborn as sns\n",
        "import matplotlib.pyplot as plt\n",
        "from sklearn.metrics import f1_score\n",
        "from lightgbm import LGBMClassifier\n",
        "from sklearn.model_selection import train_test_split\n",
        "import warnings\n",
        "warnings.filterwarnings('ignore')"
      ],
      "execution_count": 1,
      "outputs": []
    },
    {
      "cell_type": "markdown",
      "metadata": {
        "id": "9SyQadB9iY8R"
      },
      "source": [
        "### Read files"
      ]
    },
    {
      "cell_type": "code",
      "metadata": {
        "id": "MQCvC_XjDzyH"
      },
      "source": [
        "# Load files into a pandas dataframe\r\n",
        "train = pd.read_csv('Train.csv')\r\n",
        "test = pd.read_csv('Test.csv')\r\n",
        "ss = pd.read_csv('SampleSubmission.csv')"
      ],
      "execution_count": 2,
      "outputs": []
    },
    {
      "cell_type": "markdown",
      "metadata": {
        "id": "MCP0H7tSicUU"
      },
      "source": [
        "### Some basic EDA"
      ]
    },
    {
      "cell_type": "code",
      "metadata": {
        "id": "Mcqp5mXG22ye",
        "colab": {
          "base_uri": "https://localhost:8080/",
          "height": 195
        },
        "outputId": "a9326a6d-9ea2-4c91-d038-534cc1e4c64f"
      },
      "source": [
        "# Preview the first five rows of the train set\r\n",
        "train.head()"
      ],
      "execution_count": 3,
      "outputs": [
        {
          "output_type": "execute_result",
          "data": {
            "text/html": [
              "<div>\n",
              "<style scoped>\n",
              "    .dataframe tbody tr th:only-of-type {\n",
              "        vertical-align: middle;\n",
              "    }\n",
              "\n",
              "    .dataframe tbody tr th {\n",
              "        vertical-align: top;\n",
              "    }\n",
              "\n",
              "    .dataframe thead th {\n",
              "        text-align: right;\n",
              "    }\n",
              "</style>\n",
              "<table border=\"1\" class=\"dataframe\">\n",
              "  <thead>\n",
              "    <tr style=\"text-align: right;\">\n",
              "      <th></th>\n",
              "      <th>ID</th>\n",
              "      <th>Policy Start Date</th>\n",
              "      <th>Policy End Date</th>\n",
              "      <th>Gender</th>\n",
              "      <th>Age</th>\n",
              "      <th>First Transaction Date</th>\n",
              "      <th>No_Pol</th>\n",
              "      <th>Car_Category</th>\n",
              "      <th>Subject_Car_Colour</th>\n",
              "      <th>Subject_Car_Make</th>\n",
              "      <th>LGA_Name</th>\n",
              "      <th>State</th>\n",
              "      <th>ProductName</th>\n",
              "      <th>target</th>\n",
              "    </tr>\n",
              "  </thead>\n",
              "  <tbody>\n",
              "    <tr>\n",
              "      <th>0</th>\n",
              "      <td>0040R73</td>\n",
              "      <td>2010-05-14</td>\n",
              "      <td>2011-05-13</td>\n",
              "      <td>Male</td>\n",
              "      <td>30</td>\n",
              "      <td>2010-05-14</td>\n",
              "      <td>1</td>\n",
              "      <td>Saloon</td>\n",
              "      <td>Black</td>\n",
              "      <td>TOYOTA</td>\n",
              "      <td>NaN</td>\n",
              "      <td>NaN</td>\n",
              "      <td>Car Classic</td>\n",
              "      <td>0</td>\n",
              "    </tr>\n",
              "    <tr>\n",
              "      <th>1</th>\n",
              "      <td>0046BNK</td>\n",
              "      <td>2010-11-29</td>\n",
              "      <td>2011-11-28</td>\n",
              "      <td>Female</td>\n",
              "      <td>79</td>\n",
              "      <td>2010-11-29</td>\n",
              "      <td>1</td>\n",
              "      <td>JEEP</td>\n",
              "      <td>Grey</td>\n",
              "      <td>TOYOTA</td>\n",
              "      <td>NaN</td>\n",
              "      <td>NaN</td>\n",
              "      <td>Car Classic</td>\n",
              "      <td>1</td>\n",
              "    </tr>\n",
              "    <tr>\n",
              "      <th>2</th>\n",
              "      <td>005QMC3</td>\n",
              "      <td>2010-03-21</td>\n",
              "      <td>2011-03-20</td>\n",
              "      <td>Male</td>\n",
              "      <td>43</td>\n",
              "      <td>2010-03-21</td>\n",
              "      <td>1</td>\n",
              "      <td>Saloon</td>\n",
              "      <td>Red</td>\n",
              "      <td>TOYOTA</td>\n",
              "      <td>NaN</td>\n",
              "      <td>NaN</td>\n",
              "      <td>Car Classic</td>\n",
              "      <td>0</td>\n",
              "    </tr>\n",
              "    <tr>\n",
              "      <th>3</th>\n",
              "      <td>0079OHW</td>\n",
              "      <td>2010-08-21</td>\n",
              "      <td>2011-08-20</td>\n",
              "      <td>Male</td>\n",
              "      <td>2</td>\n",
              "      <td>2010-08-21</td>\n",
              "      <td>1</td>\n",
              "      <td>NaN</td>\n",
              "      <td>NaN</td>\n",
              "      <td>NaN</td>\n",
              "      <td>NaN</td>\n",
              "      <td>NaN</td>\n",
              "      <td>CarSafe</td>\n",
              "      <td>0</td>\n",
              "    </tr>\n",
              "    <tr>\n",
              "      <th>4</th>\n",
              "      <td>00BRP63</td>\n",
              "      <td>2010-08-29</td>\n",
              "      <td>2010-12-31</td>\n",
              "      <td>Entity</td>\n",
              "      <td>20</td>\n",
              "      <td>2010-08-29</td>\n",
              "      <td>3</td>\n",
              "      <td>NaN</td>\n",
              "      <td>NaN</td>\n",
              "      <td>NaN</td>\n",
              "      <td>Lagos</td>\n",
              "      <td>Lagos</td>\n",
              "      <td>Muuve</td>\n",
              "      <td>1</td>\n",
              "    </tr>\n",
              "  </tbody>\n",
              "</table>\n",
              "</div>"
            ],
            "text/plain": [
              "        ID Policy Start Date Policy End Date  ...  State  ProductName target\n",
              "0  0040R73        2010-05-14      2011-05-13  ...    NaN  Car Classic      0\n",
              "1  0046BNK        2010-11-29      2011-11-28  ...    NaN  Car Classic      1\n",
              "2  005QMC3        2010-03-21      2011-03-20  ...    NaN  Car Classic      0\n",
              "3  0079OHW        2010-08-21      2011-08-20  ...    NaN      CarSafe      0\n",
              "4  00BRP63        2010-08-29      2010-12-31  ...  Lagos        Muuve      1\n",
              "\n",
              "[5 rows x 14 columns]"
            ]
          },
          "metadata": {
            "tags": []
          },
          "execution_count": 3
        }
      ]
    },
    {
      "cell_type": "code",
      "metadata": {
        "id": "XADqPrMo22yf",
        "colab": {
          "base_uri": "https://localhost:8080/",
          "height": 279
        },
        "outputId": "b389a03e-c9d5-40a5-886b-7317689c5eb8"
      },
      "source": [
        "# Preview the first five rows of the test set\r\n",
        "test.head()"
      ],
      "execution_count": 4,
      "outputs": [
        {
          "output_type": "execute_result",
          "data": {
            "text/html": [
              "<div>\n",
              "<style scoped>\n",
              "    .dataframe tbody tr th:only-of-type {\n",
              "        vertical-align: middle;\n",
              "    }\n",
              "\n",
              "    .dataframe tbody tr th {\n",
              "        vertical-align: top;\n",
              "    }\n",
              "\n",
              "    .dataframe thead th {\n",
              "        text-align: right;\n",
              "    }\n",
              "</style>\n",
              "<table border=\"1\" class=\"dataframe\">\n",
              "  <thead>\n",
              "    <tr style=\"text-align: right;\">\n",
              "      <th></th>\n",
              "      <th>ID</th>\n",
              "      <th>Policy Start Date</th>\n",
              "      <th>Policy End Date</th>\n",
              "      <th>Gender</th>\n",
              "      <th>Age</th>\n",
              "      <th>First Transaction Date</th>\n",
              "      <th>No_Pol</th>\n",
              "      <th>Car_Category</th>\n",
              "      <th>Subject_Car_Colour</th>\n",
              "      <th>Subject_Car_Make</th>\n",
              "      <th>LGA_Name</th>\n",
              "      <th>State</th>\n",
              "      <th>ProductName</th>\n",
              "    </tr>\n",
              "  </thead>\n",
              "  <tbody>\n",
              "    <tr>\n",
              "      <th>0</th>\n",
              "      <td>009D84L</td>\n",
              "      <td>2010-04-24</td>\n",
              "      <td>2011-03-27</td>\n",
              "      <td>NO GENDER</td>\n",
              "      <td>25</td>\n",
              "      <td>2010-04-24</td>\n",
              "      <td>1</td>\n",
              "      <td>NaN</td>\n",
              "      <td>As Attached</td>\n",
              "      <td>Iveco</td>\n",
              "      <td>Victoria Island</td>\n",
              "      <td>Lagos</td>\n",
              "      <td>CVTP</td>\n",
              "    </tr>\n",
              "    <tr>\n",
              "      <th>1</th>\n",
              "      <td>01DO2EQ</td>\n",
              "      <td>2010-01-01</td>\n",
              "      <td>2010-12-31</td>\n",
              "      <td>NaN</td>\n",
              "      <td>120</td>\n",
              "      <td>2010-01-01</td>\n",
              "      <td>4</td>\n",
              "      <td>NaN</td>\n",
              "      <td>As Attached</td>\n",
              "      <td>TOYOTA</td>\n",
              "      <td>Victoria Island</td>\n",
              "      <td>Lagos</td>\n",
              "      <td>Muuve</td>\n",
              "    </tr>\n",
              "    <tr>\n",
              "      <th>2</th>\n",
              "      <td>01QM0NU</td>\n",
              "      <td>2010-10-23</td>\n",
              "      <td>2011-10-22</td>\n",
              "      <td>Female</td>\n",
              "      <td>46</td>\n",
              "      <td>2010-10-23</td>\n",
              "      <td>1</td>\n",
              "      <td>NaN</td>\n",
              "      <td>NaN</td>\n",
              "      <td>Ford</td>\n",
              "      <td>Abuja Municipal</td>\n",
              "      <td>Abuja-Municipal</td>\n",
              "      <td>Car Classic</td>\n",
              "    </tr>\n",
              "    <tr>\n",
              "      <th>3</th>\n",
              "      <td>024NJLZ</td>\n",
              "      <td>2010-10-14</td>\n",
              "      <td>2011-10-13</td>\n",
              "      <td>Male</td>\n",
              "      <td>32</td>\n",
              "      <td>2010-10-14</td>\n",
              "      <td>1</td>\n",
              "      <td>NaN</td>\n",
              "      <td>NaN</td>\n",
              "      <td>NaN</td>\n",
              "      <td>Kosofe</td>\n",
              "      <td>Benue</td>\n",
              "      <td>Car Classic</td>\n",
              "    </tr>\n",
              "    <tr>\n",
              "      <th>4</th>\n",
              "      <td>02BYET3</td>\n",
              "      <td>2010-09-16</td>\n",
              "      <td>2010-12-31</td>\n",
              "      <td>NaN</td>\n",
              "      <td>120</td>\n",
              "      <td>2010-09-16</td>\n",
              "      <td>4</td>\n",
              "      <td>NaN</td>\n",
              "      <td>NaN</td>\n",
              "      <td>TOYOTA</td>\n",
              "      <td>Victoria Island</td>\n",
              "      <td>Lagos</td>\n",
              "      <td>Muuve</td>\n",
              "    </tr>\n",
              "  </tbody>\n",
              "</table>\n",
              "</div>"
            ],
            "text/plain": [
              "        ID Policy Start Date  ...            State  ProductName\n",
              "0  009D84L        2010-04-24  ...            Lagos         CVTP\n",
              "1  01DO2EQ        2010-01-01  ...            Lagos        Muuve\n",
              "2  01QM0NU        2010-10-23  ...  Abuja-Municipal  Car Classic\n",
              "3  024NJLZ        2010-10-14  ...            Benue  Car Classic\n",
              "4  02BYET3        2010-09-16  ...            Lagos        Muuve\n",
              "\n",
              "[5 rows x 13 columns]"
            ]
          },
          "metadata": {
            "tags": []
          },
          "execution_count": 4
        }
      ]
    },
    {
      "cell_type": "code",
      "metadata": {
        "id": "iwZ0JOrk22yg",
        "colab": {
          "base_uri": "https://localhost:8080/",
          "height": 195
        },
        "outputId": "7a878636-f3d2-4a1a-cd74-f8623474ceb0"
      },
      "source": [
        "# Preview the first five rows of the sample submission file\r\n",
        "ss.head()"
      ],
      "execution_count": 5,
      "outputs": [
        {
          "output_type": "execute_result",
          "data": {
            "text/html": [
              "<div>\n",
              "<style scoped>\n",
              "    .dataframe tbody tr th:only-of-type {\n",
              "        vertical-align: middle;\n",
              "    }\n",
              "\n",
              "    .dataframe tbody tr th {\n",
              "        vertical-align: top;\n",
              "    }\n",
              "\n",
              "    .dataframe thead th {\n",
              "        text-align: right;\n",
              "    }\n",
              "</style>\n",
              "<table border=\"1\" class=\"dataframe\">\n",
              "  <thead>\n",
              "    <tr style=\"text-align: right;\">\n",
              "      <th></th>\n",
              "      <th>ID</th>\n",
              "      <th>target</th>\n",
              "    </tr>\n",
              "  </thead>\n",
              "  <tbody>\n",
              "    <tr>\n",
              "      <th>0</th>\n",
              "      <td>009D84L</td>\n",
              "      <td>0</td>\n",
              "    </tr>\n",
              "    <tr>\n",
              "      <th>1</th>\n",
              "      <td>01DO2EQ</td>\n",
              "      <td>0</td>\n",
              "    </tr>\n",
              "    <tr>\n",
              "      <th>2</th>\n",
              "      <td>01QM0NU</td>\n",
              "      <td>0</td>\n",
              "    </tr>\n",
              "    <tr>\n",
              "      <th>3</th>\n",
              "      <td>024NJLZ</td>\n",
              "      <td>0</td>\n",
              "    </tr>\n",
              "    <tr>\n",
              "      <th>4</th>\n",
              "      <td>02BYET3</td>\n",
              "      <td>0</td>\n",
              "    </tr>\n",
              "  </tbody>\n",
              "</table>\n",
              "</div>"
            ],
            "text/plain": [
              "        ID  target\n",
              "0  009D84L       0\n",
              "1  01DO2EQ       0\n",
              "2  01QM0NU       0\n",
              "3  024NJLZ       0\n",
              "4  02BYET3       0"
            ]
          },
          "metadata": {
            "tags": []
          },
          "execution_count": 5
        }
      ]
    },
    {
      "cell_type": "code",
      "metadata": {
        "colab": {
          "base_uri": "https://localhost:8080/"
        },
        "id": "PpiShcfRIM58",
        "outputId": "a88f8506-d00c-4ba2-d8e5-055630d22a9a"
      },
      "source": [
        "# Check the shape of the train and test sets\r\n",
        "print(f'The shape of the train set is: {train.shape}\\nThe shape of the test set is: {test.shape}')"
      ],
      "execution_count": 6,
      "outputs": [
        {
          "output_type": "stream",
          "text": [
            "The shape of the train set is: (12079, 14)\n",
            "The shape of the test set is: (5177, 13)\n"
          ],
          "name": "stdout"
        }
      ]
    },
    {
      "cell_type": "code",
      "metadata": {
        "colab": {
          "base_uri": "https://localhost:8080/",
          "height": 446
        },
        "id": "PXnqoSeVJT1w",
        "outputId": "2e408179-ff08-4286-db45-9353556faf50"
      },
      "source": [
        "# Check if there any missing values in train set\r\n",
        "ax = train.isna().sum().sort_values().plot(kind = 'barh', figsize = (10, 7))\r\n",
        "plt.title('Percentage of Missing Values Per Column in Train Set', fontdict={'size':15})\r\n",
        "for p in ax.patches:\r\n",
        "    percentage ='{:,.0f}%'.format((p.get_width()/train.shape[0])*100)\r\n",
        "    width, height =p.get_width(),p.get_height()\r\n",
        "    x=p.get_x()+width+0.02\r\n",
        "    y=p.get_y()+height/2\r\n",
        "    ax.annotate(percentage,(x,y))"
      ],
      "execution_count": 8,
      "outputs": [
        {
          "output_type": "display_data",
          "data": {
            "image/png": "[encoded data removed]",
            "text/plain": [
              "<Figure size 720x504 with 1 Axes>"
            ]
          },
          "metadata": {
            "tags": [],
            "needs_background": "light"
          }
        }
      ]
    },
    {
      "cell_type": "code",
      "metadata": {
        "colab": {
          "base_uri": "https://localhost:8080/",
          "height": 446
        },
        "id": "JvZQN_KMMhyH",
        "outputId": "b3e52142-44ed-4496-b5ef-21c58923f0b2"
      },
      "source": [
        "# Check if there missing values in test set\r\n",
        "ax = test.isna().sum().sort_values().plot(kind = 'barh', figsize = (10, 7))\r\n",
        "plt.title('Percentage of Missing Values Per Column in Test Set', fontdict={'size':15})\r\n",
        "\r\n",
        "for p in ax.patches:\r\n",
        "    percentage ='{:,.1f}%'.format((p.get_width()/test.shape[0])*100)\r\n",
        "    width, height =p.get_width(),p.get_height()\r\n",
        "    x=p.get_x()+width+0.02\r\n",
        "    y=p.get_y()+height/2\r\n",
        "    ax.annotate(percentage,(x,y))"
      ],
      "execution_count": 9,
      "outputs": [
        {
          "output_type": "display_data",
          "data": {
            "image/png": "[encoded data removed]",
            "text/plain": [
              "<Figure size 720x504 with 1 Axes>"
            ]
          },
          "metadata": {
            "tags": [],
            "needs_background": "light"
          }
        }
      ]
    },
    {
      "cell_type": "markdown",
      "metadata": {
        "id": "oo9bQICy22yi"
      },
      "source": [
        "## Combine train and test set for easy preprocessing "
      ]
    },
    {
      "cell_type": "code",
      "metadata": {
        "id": "LMBnOTvv22yi",
        "colab": {
          "base_uri": "https://localhost:8080/"
        },
        "outputId": "aa3732b6-e781-409d-b36a-23a5f7d801e6"
      },
      "source": [
        "# Combine train and test set\n",
        "ntrain = train.shape[0] # to be used to split train and test set from the combined dataframe\n",
        "\n",
        "all_data = pd.concat((train, test)).reset_index(drop=True)\n",
        "print(f'The shape of the combined dataframe is: {all_data.shape}')"
      ],
      "execution_count": 10,
      "outputs": [
        {
          "output_type": "stream",
          "text": [
            "The shape of the combined dataframe is: (17256, 14)\n"
          ],
          "name": "stdout"
        }
      ]
    },
    {
      "cell_type": "code",
      "metadata": {
        "id": "Enhuekp922yj",
        "colab": {
          "base_uri": "https://localhost:8080/",
          "height": 229
        },
        "outputId": "cbd3c921-fcc3-42f6-de2e-6cf9cc0b02b2"
      },
      "source": [
        "# Preview the last five rows of the combined dataframe\r\n",
        "all_data.tail()"
      ],
      "execution_count": 11,
      "outputs": [
        {
          "output_type": "execute_result",
          "data": {
            "text/html": [
              "<div>\n",
              "<style scoped>\n",
              "    .dataframe tbody tr th:only-of-type {\n",
              "        vertical-align: middle;\n",
              "    }\n",
              "\n",
              "    .dataframe tbody tr th {\n",
              "        vertical-align: top;\n",
              "    }\n",
              "\n",
              "    .dataframe thead th {\n",
              "        text-align: right;\n",
              "    }\n",
              "</style>\n",
              "<table border=\"1\" class=\"dataframe\">\n",
              "  <thead>\n",
              "    <tr style=\"text-align: right;\">\n",
              "      <th></th>\n",
              "      <th>ID</th>\n",
              "      <th>Policy Start Date</th>\n",
              "      <th>Policy End Date</th>\n",
              "      <th>Gender</th>\n",
              "      <th>Age</th>\n",
              "      <th>First Transaction Date</th>\n",
              "      <th>No_Pol</th>\n",
              "      <th>Car_Category</th>\n",
              "      <th>Subject_Car_Colour</th>\n",
              "      <th>Subject_Car_Make</th>\n",
              "      <th>LGA_Name</th>\n",
              "      <th>State</th>\n",
              "      <th>ProductName</th>\n",
              "      <th>target</th>\n",
              "    </tr>\n",
              "  </thead>\n",
              "  <tbody>\n",
              "    <tr>\n",
              "      <th>17251</th>\n",
              "      <td>ZYXX5AF</td>\n",
              "      <td>2010-07-18</td>\n",
              "      <td>2011-07-17</td>\n",
              "      <td>Male</td>\n",
              "      <td>48</td>\n",
              "      <td>2010-07-18</td>\n",
              "      <td>1</td>\n",
              "      <td>Saloon</td>\n",
              "      <td>NaN</td>\n",
              "      <td>Honda</td>\n",
              "      <td>NaN</td>\n",
              "      <td>NaN</td>\n",
              "      <td>CarSafe</td>\n",
              "      <td>NaN</td>\n",
              "    </tr>\n",
              "    <tr>\n",
              "      <th>17252</th>\n",
              "      <td>ZYYOZ5L</td>\n",
              "      <td>2010-12-04</td>\n",
              "      <td>2011-12-03</td>\n",
              "      <td>NaN</td>\n",
              "      <td>50</td>\n",
              "      <td>2010-12-04</td>\n",
              "      <td>1</td>\n",
              "      <td>NaN</td>\n",
              "      <td>NaN</td>\n",
              "      <td>NaN</td>\n",
              "      <td>Victoria Island</td>\n",
              "      <td>Lagos</td>\n",
              "      <td>Car Classic</td>\n",
              "      <td>NaN</td>\n",
              "    </tr>\n",
              "    <tr>\n",
              "      <th>17253</th>\n",
              "      <td>ZZ1GTKD</td>\n",
              "      <td>2010-09-24</td>\n",
              "      <td>2011-09-23</td>\n",
              "      <td>Male</td>\n",
              "      <td>1</td>\n",
              "      <td>2010-09-24</td>\n",
              "      <td>1</td>\n",
              "      <td>NaN</td>\n",
              "      <td>NaN</td>\n",
              "      <td>NaN</td>\n",
              "      <td>NaN</td>\n",
              "      <td>NaN</td>\n",
              "      <td>CarSafe</td>\n",
              "      <td>NaN</td>\n",
              "    </tr>\n",
              "    <tr>\n",
              "      <th>17254</th>\n",
              "      <td>ZZDXQSI</td>\n",
              "      <td>2010-07-17</td>\n",
              "      <td>2011-07-16</td>\n",
              "      <td>Female</td>\n",
              "      <td>52</td>\n",
              "      <td>2010-07-17</td>\n",
              "      <td>1</td>\n",
              "      <td>Saloon</td>\n",
              "      <td>Grey</td>\n",
              "      <td>TOYOTA</td>\n",
              "      <td>NaN</td>\n",
              "      <td>NaN</td>\n",
              "      <td>Car Classic</td>\n",
              "      <td>NaN</td>\n",
              "    </tr>\n",
              "    <tr>\n",
              "      <th>17255</th>\n",
              "      <td>ZZYTLV1</td>\n",
              "      <td>2010-07-17</td>\n",
              "      <td>2011-07-16</td>\n",
              "      <td>Male</td>\n",
              "      <td>68</td>\n",
              "      <td>2010-07-17</td>\n",
              "      <td>1</td>\n",
              "      <td>Saloon</td>\n",
              "      <td>NaN</td>\n",
              "      <td>Peugeot</td>\n",
              "      <td>NaN</td>\n",
              "      <td>NaN</td>\n",
              "      <td>CarSafe</td>\n",
              "      <td>NaN</td>\n",
              "    </tr>\n",
              "  </tbody>\n",
              "</table>\n",
              "</div>"
            ],
            "text/plain": [
              "            ID Policy Start Date Policy End Date  ...  State  ProductName target\n",
              "17251  ZYXX5AF        2010-07-18      2011-07-17  ...    NaN      CarSafe    NaN\n",
              "17252  ZYYOZ5L        2010-12-04      2011-12-03  ...  Lagos  Car Classic    NaN\n",
              "17253  ZZ1GTKD        2010-09-24      2011-09-23  ...    NaN      CarSafe    NaN\n",
              "17254  ZZDXQSI        2010-07-17      2011-07-16  ...    NaN  Car Classic    NaN\n",
              "17255  ZZYTLV1        2010-07-17      2011-07-16  ...    NaN      CarSafe    NaN\n",
              "\n",
              "[5 rows x 14 columns]"
            ]
          },
          "metadata": {
            "tags": []
          },
          "execution_count": 11
        }
      ]
    },
    {
      "cell_type": "code",
      "metadata": {
        "id": "Zmhi38ur22yj",
        "colab": {
          "base_uri": "https://localhost:8080/"
        },
        "outputId": "b70fdb83-6e8a-4d1d-c7e0-7461d6ef10ac"
      },
      "source": [
        "# Check the column names and datatypes\n",
        "all_data.info()"
      ],
      "execution_count": 12,
      "outputs": [
        {
          "output_type": "stream",
          "text": [
            "<class 'pandas.core.frame.DataFrame'>\n",
            "RangeIndex: 17256 entries, 0 to 17255\n",
            "Data columns (total 14 columns):\n",
            " #   Column                  Non-Null Count  Dtype  \n",
            "---  ------                  --------------  -----  \n",
            " 0   ID                      17256 non-null  object \n",
            " 1   Policy Start Date       17256 non-null  object \n",
            " 2   Policy End Date         17256 non-null  object \n",
            " 3   Gender                  16741 non-null  object \n",
            " 4   Age                     17256 non-null  int64  \n",
            " 5   First Transaction Date  17256 non-null  object \n",
            " 6   No_Pol                  17256 non-null  int64  \n",
            " 7   Car_Category            11880 non-null  object \n",
            " 8   Subject_Car_Colour      7289 non-null   object \n",
            " 9   Subject_Car_Make        13719 non-null  object \n",
            " 10  LGA_Name                7998 non-null   object \n",
            " 11  State                   7980 non-null   object \n",
            " 12  ProductName             17256 non-null  object \n",
            " 13  target                  12079 non-null  float64\n",
            "dtypes: float64(1), int64(2), object(11)\n",
            "memory usage: 1.8+ MB\n"
          ],
          "name": "stdout"
        }
      ]
    },
    {
      "cell_type": "code",
      "metadata": {
        "colab": {
          "base_uri": "https://localhost:8080/"
        },
        "id": "lErcKRUdRPCu",
        "outputId": "e2ab033e-4485-4b7c-eabd-aa50184494ed"
      },
      "source": [
        "# Change each column to its appriopriate datatype\r\n",
        "date_cols = [col for col in all_data.columns if 'Date' in col]\r\n",
        "num_cols = ['Age', 'No_Pol']\r\n",
        "cat_cols = [col for col in all_data.columns if col not in date_cols+num_cols+['ID', 'target']]\r\n",
        "\r\n",
        "for col in all_data.columns:\r\n",
        "  if col in date_cols:\r\n",
        "    all_data[col] = pd.to_datetime(all_data[col])\r\n",
        "  elif col in cat_cols:\r\n",
        "    all_data[col] = all_data[col].astype('category')\r\n",
        "\r\n",
        "# Confirm whether the changes have been applied successfully\r\n",
        "all_data.info()"
      ],
      "execution_count": 13,
      "outputs": [
        {
          "output_type": "stream",
          "text": [
            "<class 'pandas.core.frame.DataFrame'>\n",
            "RangeIndex: 17256 entries, 0 to 17255\n",
            "Data columns (total 14 columns):\n",
            " #   Column                  Non-Null Count  Dtype         \n",
            "---  ------                  --------------  -----         \n",
            " 0   ID                      17256 non-null  object        \n",
            " 1   Policy Start Date       17256 non-null  datetime64[ns]\n",
            " 2   Policy End Date         17256 non-null  datetime64[ns]\n",
            " 3   Gender                  16741 non-null  category      \n",
            " 4   Age                     17256 non-null  int64         \n",
            " 5   First Transaction Date  17256 non-null  datetime64[ns]\n",
            " 6   No_Pol                  17256 non-null  int64         \n",
            " 7   Car_Category            11880 non-null  category      \n",
            " 8   Subject_Car_Colour      7289 non-null   category      \n",
            " 9   Subject_Car_Make        13719 non-null  category      \n",
            " 10  LGA_Name                7998 non-null   category      \n",
            " 11  State                   7980 non-null   category      \n",
            " 12  ProductName             17256 non-null  category      \n",
            " 13  target                  12079 non-null  float64       \n",
            "dtypes: category(7), datetime64[ns](3), float64(1), int64(2), object(1)\n",
            "memory usage: 1.1+ MB\n"
          ],
          "name": "stdout"
        }
      ]
    },
    {
      "cell_type": "markdown",
      "metadata": {
        "id": "pL-uhhyKUHWw"
      },
      "source": [
        "### Distribution of the target variable"
      ]
    },
    {
      "cell_type": "code",
      "metadata": {
        "id": "lYzk7oDe22ym",
        "colab": {
          "base_uri": "https://localhost:8080/",
          "height": 296
        },
        "outputId": "230e7f80-d204-46b6-a66f-7dab63acef3b"
      },
      "source": [
        "sns.countplot(train.target)\r\n",
        "plt.title('Target Distribution', fontdict={'size':14});"
      ],
      "execution_count": 14,
      "outputs": [
        {
          "output_type": "display_data",
          "data": {
            "image/png": "[encoded data removed]",
            "text/plain": [
              "<Figure size 432x288 with 1 Axes>"
            ]
          },
          "metadata": {
            "tags": [],
            "needs_background": "light"
          }
        }
      ]
    },
    {
      "cell_type": "markdown",
      "metadata": {
        "id": "feOHk7mRheOQ"
      },
      "source": [
        "### Distribution of the Gender column"
      ]
    },
    {
      "cell_type": "code",
      "metadata": {
        "id": "gLFQ8acB22yp",
        "colab": {
          "base_uri": "https://localhost:8080/",
          "height": 446
        },
        "outputId": "754f73d1-750f-4489-98a8-c4c874ab521f"
      },
      "source": [
        "# Gender distribution \n",
        "ax = all_data.Gender.value_counts().sort_values().plot(kind = 'barh', figsize=(10,7))\n",
        "plt.title('Gender Distribution', fontdict={'size': 15})\n",
        "for p in ax.patches:\n",
        "  percentage ='{:,.1f}%'.format((p.get_width()/all_data.shape[0])*100)\n",
        "  width, height =p.get_width(),p.get_height()\n",
        "  x=p.get_x()+width+0.02\n",
        "  y=p.get_y()+height/2\n",
        "  ax.annotate(percentage,(x,y))"
      ],
      "execution_count": 15,
      "outputs": [
        {
          "output_type": "display_data",
          "data": {
            "image/png": "[encoded data removed]",
            "text/plain": [
              "<Figure size 720x504 with 1 Axes>"
            ]
          },
          "metadata": {
            "tags": [],
            "needs_background": "light"
          }
        }
      ]
    },
    {
      "cell_type": "code",
      "metadata": {
        "colab": {
          "base_uri": "https://localhost:8080/"
        },
        "id": "nialRZ4hWhMW",
        "outputId": "d0282bec-7dec-4c18-e90c-b86e9817dd7b"
      },
      "source": [
        "mapper = {'Entity':'Other', 'Joint Gender':'Other', 'NOT STATED':'Other', 'NO GENDER': 'Other', 'SEX':\"Other\"}\r\n",
        "all_data.Gender = all_data.Gender.replace(mapper)\r\n",
        "\r\n",
        "# Confirm mappings\r\n",
        "all_data.Gender.value_counts()"
      ],
      "execution_count": 16,
      "outputs": [
        {
          "output_type": "execute_result",
          "data": {
            "text/plain": [
              "Male      10888\n",
              "Female     4735\n",
              "Other      1118\n",
              "Name: Gender, dtype: int64"
            ]
          },
          "metadata": {
            "tags": []
          },
          "execution_count": 16
        }
      ]
    },
    {
      "cell_type": "markdown",
      "metadata": {
        "id": "7rZ9LClahj5F"
      },
      "source": [
        "### Number of unique values per categorical column"
      ]
    },
    {
      "cell_type": "code",
      "metadata": {
        "id": "rOd8usWw22yp",
        "colab": {
          "base_uri": "https://localhost:8080/"
        },
        "outputId": "dd5e9ed1-c566-4ae5-d881-c9eb26ba28e9"
      },
      "source": [
        "# Check unique values for each categorical column\r\n",
        "for col in cat_cols:\r\n",
        "  print(col)\r\n",
        "  print(all_data[col].unique(), '\\n')"
      ],
      "execution_count": 17,
      "outputs": [
        {
          "output_type": "stream",
          "text": [
            "Gender\n",
            "['Male' 'Female' 'Other' nan] \n",
            "\n",
            "Car_Category\n",
            "['Saloon', 'JEEP', NaN, 'Motorcycle', 'Truck', ..., 'Wagon', 'Shape Of Vehicle Chasis', 'Sedan', 'Station 4 Wheel', 'Tipper Truck']\n",
            "Length: 17\n",
            "Categories (16, object): ['Saloon', 'JEEP', 'Motorcycle', 'Truck', ..., 'Shape Of Vehicle Chasis',\n",
            "                          'Sedan', 'Station 4 Wheel', 'Tipper Truck'] \n",
            "\n",
            "Subject_Car_Colour\n",
            "['Black', 'Grey', 'Red', NaN, 'As Attached', ..., 'Yellow & White', 'Beige Mitalic', 'Light Gray', 'Blue Sky', 'Red Maroon']\n",
            "Length: 47\n",
            "Categories (46, object): ['Black', 'Grey', 'Red', 'As Attached', ..., 'Beige Mitalic',\n",
            "                          'Light Gray', 'Blue Sky', 'Red Maroon'] \n",
            "\n",
            "Subject_Car_Make\n",
            "['TOYOTA', NaN, 'REXTON', 'Lexus', 'Hyundai', ..., 'BRILLIANCE', 'Buik', 'COMMANDER', 'Bajaj', 'Datsun']\n",
            "Length: 76\n",
            "Categories (75, object): ['TOYOTA', 'REXTON', 'Lexus', 'Hyundai', ..., 'Buik', 'COMMANDER', 'Bajaj',\n",
            "                          'Datsun'] \n",
            "\n",
            "LGA_Name\n",
            "[NaN, 'Lagos', 'Ikeja', 'Badagry', 'Eti-Osa', ..., 'Hong', 'Ifako-Agege', 'Benue', 'Okpokwu', 'Ngor-Okpala']\n",
            "Length: 271\n",
            "Categories (270, object): ['Lagos', 'Ikeja', 'Badagry', 'Eti-Osa', ..., 'Ifako-Agege', 'Benue',\n",
            "                           'Okpokwu', 'Ngor-Okpala'] \n",
            "\n",
            "State\n",
            "[NaN, 'Lagos', 'Benue', 'Eti-Osa', 'Delta', ..., 'ENUGU-SOUTH', 'Ijebu-North', 'Asari-Toru', 'Idemili-south', 'Ngor-Okpala']\n",
            "Length: 114\n",
            "Categories (113, object): ['Lagos', 'Benue', 'Eti-Osa', 'Delta', ..., 'Ijebu-North', 'Asari-Toru',\n",
            "                           'Idemili-south', 'Ngor-Okpala'] \n",
            "\n",
            "ProductName\n",
            "['Car Classic', 'CarSafe', 'Muuve', 'CVTP', 'Car Plus', 'Motor Cycle', 'Customized Motor', 'CarFlex', 'Car Vintage']\n",
            "Categories (9, object): ['Car Classic', 'CarSafe', 'Muuve', 'CVTP', ..., 'Motor Cycle',\n",
            "                         'Customized Motor', 'CarFlex', 'Car Vintage'] \n",
            "\n"
          ],
          "name": "stdout"
        }
      ]
    },
    {
      "cell_type": "markdown",
      "metadata": {
        "id": "2akc9eF-hsWo"
      },
      "source": [
        "### Filling in missing values\r\n",
        "#### Missing values can be filled using different strategies\r\n",
        "Tips:\r\n",
        " - Mean\r\n",
        " - Max\r\n",
        " - Min\r\n",
        " - [sklearn SimpleImputer](https://scikit-learn.org/stable/modules/generated/sklearn.impute.SimpleImputer.html)\r\n",
        " - Others... do more reasearch"
      ]
    },
    {
      "cell_type": "code",
      "metadata": {
        "colab": {
          "base_uri": "https://localhost:8080/"
        },
        "id": "E61_c9DZYkuu",
        "outputId": "44b08ab0-3223-46f2-bc42-0a905a527883"
      },
      "source": [
        "# Fill in missing values\r\n",
        "# For cat cols and date cols fill in with mode and for num cols fill in with 9999\r\n",
        "for col in all_data.columns:\r\n",
        "  if col in date_cols+cat_cols:\r\n",
        "    all_data[col] = all_data[col].fillna(all_data[col].mode()[0])\r\n",
        "  elif col in num_cols:\r\n",
        "    all_data[col] = all_data[col].fillna(all_data[col].fillna(9999))\r\n",
        "\r\n",
        "# Confirm that there aren't any missing values\r\n",
        "all_data[all_data.columns.difference(['target'])].isna().sum()"
      ],
      "execution_count": 18,
      "outputs": [
        {
          "output_type": "execute_result",
          "data": {
            "text/plain": [
              "Age                       0\n",
              "Car_Category              0\n",
              "First Transaction Date    0\n",
              "Gender                    0\n",
              "ID                        0\n",
              "LGA_Name                  0\n",
              "No_Pol                    0\n",
              "Policy End Date           0\n",
              "Policy Start Date         0\n",
              "ProductName               0\n",
              "State                     0\n",
              "Subject_Car_Colour        0\n",
              "Subject_Car_Make          0\n",
              "dtype: int64"
            ]
          },
          "metadata": {
            "tags": []
          },
          "execution_count": 18
        }
      ]
    },
    {
      "cell_type": "markdown",
      "metadata": {
        "id": "Ppmv1kB5hvWs"
      },
      "source": [
        "### Feature Engineering\r\n",
        "#### Alot of features can be extracted from dates\r\n",
        "Tips:\r\n",
        " - Quarter, Start of Year, month?\r\n",
        " - Is it a weekend, weekday?\r\n",
        " - Is it a holiday\r\n",
        " - Duration between different periods, e.g start and end of a policy\r\n",
        " - What features can be derived from the age column\r\n",
        " - Be creative 😉"
      ]
    },
    {
      "cell_type": "code",
      "metadata": {
        "colab": {
          "base_uri": "https://localhost:8080/",
          "height": 333
        },
        "id": "3ELOMgf3awEe",
        "outputId": "ad661bb6-4718-455e-84d2-ead392ed00c7"
      },
      "source": [
        "# Extract date features from the date columns\r\n",
        "for col in date_cols:\r\n",
        "  for date_feature in ['year', 'month', 'day']:\r\n",
        "    all_data[col+date_feature] = getattr(all_data[col].dt, date_feature)\r\n",
        "\r\n",
        "all_data.head()"
      ],
      "execution_count": 19,
      "outputs": [
        {
          "output_type": "execute_result",
          "data": {
            "text/html": [
              "<div>\n",
              "<style scoped>\n",
              "    .dataframe tbody tr th:only-of-type {\n",
              "        vertical-align: middle;\n",
              "    }\n",
              "\n",
              "    .dataframe tbody tr th {\n",
              "        vertical-align: top;\n",
              "    }\n",
              "\n",
              "    .dataframe thead th {\n",
              "        text-align: right;\n",
              "    }\n",
              "</style>\n",
              "<table border=\"1\" class=\"dataframe\">\n",
              "  <thead>\n",
              "    <tr style=\"text-align: right;\">\n",
              "      <th></th>\n",
              "      <th>ID</th>\n",
              "      <th>Policy Start Date</th>\n",
              "      <th>Policy End Date</th>\n",
              "      <th>Gender</th>\n",
              "      <th>Age</th>\n",
              "      <th>First Transaction Date</th>\n",
              "      <th>No_Pol</th>\n",
              "      <th>Car_Category</th>\n",
              "      <th>Subject_Car_Colour</th>\n",
              "      <th>Subject_Car_Make</th>\n",
              "      <th>LGA_Name</th>\n",
              "      <th>State</th>\n",
              "      <th>ProductName</th>\n",
              "      <th>target</th>\n",
              "      <th>Policy Start Dateyear</th>\n",
              "      <th>Policy Start Datemonth</th>\n",
              "      <th>Policy Start Dateday</th>\n",
              "      <th>Policy End Dateyear</th>\n",
              "      <th>Policy End Datemonth</th>\n",
              "      <th>Policy End Dateday</th>\n",
              "      <th>First Transaction Dateyear</th>\n",
              "      <th>First Transaction Datemonth</th>\n",
              "      <th>First Transaction Dateday</th>\n",
              "    </tr>\n",
              "  </thead>\n",
              "  <tbody>\n",
              "    <tr>\n",
              "      <th>0</th>\n",
              "      <td>0040R73</td>\n",
              "      <td>2010-05-14</td>\n",
              "      <td>2011-05-13</td>\n",
              "      <td>Male</td>\n",
              "      <td>30</td>\n",
              "      <td>2010-05-14</td>\n",
              "      <td>1</td>\n",
              "      <td>Saloon</td>\n",
              "      <td>Black</td>\n",
              "      <td>TOYOTA</td>\n",
              "      <td>Victoria Island</td>\n",
              "      <td>Lagos</td>\n",
              "      <td>Car Classic</td>\n",
              "      <td>0.0</td>\n",
              "      <td>2010</td>\n",
              "      <td>5</td>\n",
              "      <td>14</td>\n",
              "      <td>2011</td>\n",
              "      <td>5</td>\n",
              "      <td>13</td>\n",
              "      <td>2010</td>\n",
              "      <td>5</td>\n",
              "      <td>14</td>\n",
              "    </tr>\n",
              "    <tr>\n",
              "      <th>1</th>\n",
              "      <td>0046BNK</td>\n",
              "      <td>2010-11-29</td>\n",
              "      <td>2011-11-28</td>\n",
              "      <td>Female</td>\n",
              "      <td>79</td>\n",
              "      <td>2010-11-29</td>\n",
              "      <td>1</td>\n",
              "      <td>JEEP</td>\n",
              "      <td>Grey</td>\n",
              "      <td>TOYOTA</td>\n",
              "      <td>Victoria Island</td>\n",
              "      <td>Lagos</td>\n",
              "      <td>Car Classic</td>\n",
              "      <td>1.0</td>\n",
              "      <td>2010</td>\n",
              "      <td>11</td>\n",
              "      <td>29</td>\n",
              "      <td>2011</td>\n",
              "      <td>11</td>\n",
              "      <td>28</td>\n",
              "      <td>2010</td>\n",
              "      <td>11</td>\n",
              "      <td>29</td>\n",
              "    </tr>\n",
              "    <tr>\n",
              "      <th>2</th>\n",
              "      <td>005QMC3</td>\n",
              "      <td>2010-03-21</td>\n",
              "      <td>2011-03-20</td>\n",
              "      <td>Male</td>\n",
              "      <td>43</td>\n",
              "      <td>2010-03-21</td>\n",
              "      <td>1</td>\n",
              "      <td>Saloon</td>\n",
              "      <td>Red</td>\n",
              "      <td>TOYOTA</td>\n",
              "      <td>Victoria Island</td>\n",
              "      <td>Lagos</td>\n",
              "      <td>Car Classic</td>\n",
              "      <td>0.0</td>\n",
              "      <td>2010</td>\n",
              "      <td>3</td>\n",
              "      <td>21</td>\n",
              "      <td>2011</td>\n",
              "      <td>3</td>\n",
              "      <td>20</td>\n",
              "      <td>2010</td>\n",
              "      <td>3</td>\n",
              "      <td>21</td>\n",
              "    </tr>\n",
              "    <tr>\n",
              "      <th>3</th>\n",
              "      <td>0079OHW</td>\n",
              "      <td>2010-08-21</td>\n",
              "      <td>2011-08-20</td>\n",
              "      <td>Male</td>\n",
              "      <td>2</td>\n",
              "      <td>2010-08-21</td>\n",
              "      <td>1</td>\n",
              "      <td>Saloon</td>\n",
              "      <td>Black</td>\n",
              "      <td>TOYOTA</td>\n",
              "      <td>Victoria Island</td>\n",
              "      <td>Lagos</td>\n",
              "      <td>CarSafe</td>\n",
              "      <td>0.0</td>\n",
              "      <td>2010</td>\n",
              "      <td>8</td>\n",
              "      <td>21</td>\n",
              "      <td>2011</td>\n",
              "      <td>8</td>\n",
              "      <td>20</td>\n",
              "      <td>2010</td>\n",
              "      <td>8</td>\n",
              "      <td>21</td>\n",
              "    </tr>\n",
              "    <tr>\n",
              "      <th>4</th>\n",
              "      <td>00BRP63</td>\n",
              "      <td>2010-08-29</td>\n",
              "      <td>2010-12-31</td>\n",
              "      <td>Other</td>\n",
              "      <td>20</td>\n",
              "      <td>2010-08-29</td>\n",
              "      <td>3</td>\n",
              "      <td>Saloon</td>\n",
              "      <td>Black</td>\n",
              "      <td>TOYOTA</td>\n",
              "      <td>Lagos</td>\n",
              "      <td>Lagos</td>\n",
              "      <td>Muuve</td>\n",
              "      <td>1.0</td>\n",
              "      <td>2010</td>\n",
              "      <td>8</td>\n",
              "      <td>29</td>\n",
              "      <td>2010</td>\n",
              "      <td>12</td>\n",
              "      <td>31</td>\n",
              "      <td>2010</td>\n",
              "      <td>8</td>\n",
              "      <td>29</td>\n",
              "    </tr>\n",
              "  </tbody>\n",
              "</table>\n",
              "</div>"
            ],
            "text/plain": [
              "        ID  ... First Transaction Dateday\n",
              "0  0040R73  ...                        14\n",
              "1  0046BNK  ...                        29\n",
              "2  005QMC3  ...                        21\n",
              "3  0079OHW  ...                        21\n",
              "4  00BRP63  ...                        29\n",
              "\n",
              "[5 rows x 23 columns]"
            ]
          },
          "metadata": {
            "tags": []
          },
          "execution_count": 19
        }
      ]
    },
    {
      "cell_type": "markdown",
      "metadata": {
        "id": "XOnSMk9im9EC"
      },
      "source": [
        "#### Try different strategies of dealing with categorical variables\r\n",
        "Tips:\r\n",
        " - One hot encoding\r\n",
        " - Label encoding\r\n",
        " - Target encoding\r\n",
        " - Reduce the number of unique values..."
      ]
    },
    {
      "cell_type": "code",
      "metadata": {
        "id": "hzZXqfvE22y9",
        "colab": {
          "base_uri": "https://localhost:8080/",
          "height": 362
        },
        "outputId": "422be2fb-2657-4d3a-c97a-5f81a2736170"
      },
      "source": [
        "# Encode categorical features\r\n",
        "all_data = pd.get_dummies(data = all_data, columns = cat_cols)\r\n",
        "all_data.head()"
      ],
      "execution_count": 20,
      "outputs": [
        {
          "output_type": "execute_result",
          "data": {
            "text/html": [
              "<div>\n",
              "<style scoped>\n",
              "    .dataframe tbody tr th:only-of-type {\n",
              "        vertical-align: middle;\n",
              "    }\n",
              "\n",
              "    .dataframe tbody tr th {\n",
              "        vertical-align: top;\n",
              "    }\n",
              "\n",
              "    .dataframe thead th {\n",
              "        text-align: right;\n",
              "    }\n",
              "</style>\n",
              "<table border=\"1\" class=\"dataframe\">\n",
              "  <thead>\n",
              "    <tr style=\"text-align: right;\">\n",
              "      <th></th>\n",
              "      <th>ID</th>\n",
              "      <th>Policy Start Date</th>\n",
              "      <th>Policy End Date</th>\n",
              "      <th>Age</th>\n",
              "      <th>First Transaction Date</th>\n",
              "      <th>No_Pol</th>\n",
              "      <th>target</th>\n",
              "      <th>Policy Start Dateyear</th>\n",
              "      <th>Policy Start Datemonth</th>\n",
              "      <th>Policy Start Dateday</th>\n",
              "      <th>Policy End Dateyear</th>\n",
              "      <th>Policy End Datemonth</th>\n",
              "      <th>Policy End Dateday</th>\n",
              "      <th>First Transaction Dateyear</th>\n",
              "      <th>First Transaction Datemonth</th>\n",
              "      <th>First Transaction Dateday</th>\n",
              "      <th>Gender_Female</th>\n",
              "      <th>Gender_Male</th>\n",
              "      <th>Gender_Other</th>\n",
              "      <th>Car_Category_Bus</th>\n",
              "      <th>Car_Category_CAMRY CAR HIRE</th>\n",
              "      <th>Car_Category_JEEP</th>\n",
              "      <th>Car_Category_Mini Bus</th>\n",
              "      <th>Car_Category_Mini Van</th>\n",
              "      <th>Car_Category_Motorcycle</th>\n",
              "      <th>Car_Category_Pick Up</th>\n",
              "      <th>Car_Category_Pick Up &gt; 3 Tons</th>\n",
              "      <th>Car_Category_Saloon</th>\n",
              "      <th>Car_Category_Sedan</th>\n",
              "      <th>Car_Category_Shape Of Vehicle Chasis</th>\n",
              "      <th>Car_Category_Station 4 Wheel</th>\n",
              "      <th>Car_Category_Tipper Truck</th>\n",
              "      <th>Car_Category_Truck</th>\n",
              "      <th>Car_Category_Van</th>\n",
              "      <th>Car_Category_Wagon</th>\n",
              "      <th>Subject_Car_Colour_As Attached</th>\n",
              "      <th>Subject_Car_Colour_Ash</th>\n",
              "      <th>Subject_Car_Colour_B.Silver</th>\n",
              "      <th>Subject_Car_Colour_Beige Mitalic</th>\n",
              "      <th>Subject_Car_Colour_Black</th>\n",
              "      <th>...</th>\n",
              "      <th>State_Nsit-Ubium</th>\n",
              "      <th>State_Obafemi-Owode</th>\n",
              "      <th>State_Obia-Akpor</th>\n",
              "      <th>State_Ogba-Ndoni</th>\n",
              "      <th>State_Ogbmosho-South</th>\n",
              "      <th>State_Ogun</th>\n",
              "      <th>State_Ogun-Waterside</th>\n",
              "      <th>State_Ondo</th>\n",
              "      <th>State_Ondo-West</th>\n",
              "      <th>State_Onitsha-North</th>\n",
              "      <th>State_Onitsha-South</th>\n",
              "      <th>State_Orile-Iganmu</th>\n",
              "      <th>State_Oshimili-North</th>\n",
              "      <th>State_Oshodi-Isolo</th>\n",
              "      <th>State_Osun</th>\n",
              "      <th>State_Ovia-SouthWest</th>\n",
              "      <th>State_Owerri-Municipal</th>\n",
              "      <th>State_Owerri-North</th>\n",
              "      <th>State_Owerri-West</th>\n",
              "      <th>State_Oyo</th>\n",
              "      <th>State_Oyo-East</th>\n",
              "      <th>State_Oyo-West</th>\n",
              "      <th>State_Port-Harcourt</th>\n",
              "      <th>State_QuaAn-Pan</th>\n",
              "      <th>State_Rivers</th>\n",
              "      <th>State_Udi-Agwu</th>\n",
              "      <th>State_Ughelli-North</th>\n",
              "      <th>State_Umuahia-South</th>\n",
              "      <th>State_Warri-Central</th>\n",
              "      <th>State_Warri-North</th>\n",
              "      <th>State_Warri-South</th>\n",
              "      <th>ProductName_CVTP</th>\n",
              "      <th>ProductName_Car Classic</th>\n",
              "      <th>ProductName_Car Plus</th>\n",
              "      <th>ProductName_Car Vintage</th>\n",
              "      <th>ProductName_CarFlex</th>\n",
              "      <th>ProductName_CarSafe</th>\n",
              "      <th>ProductName_Customized Motor</th>\n",
              "      <th>ProductName_Motor Cycle</th>\n",
              "      <th>ProductName_Muuve</th>\n",
              "    </tr>\n",
              "  </thead>\n",
              "  <tbody>\n",
              "    <tr>\n",
              "      <th>0</th>\n",
              "      <td>0040R73</td>\n",
              "      <td>2010-05-14</td>\n",
              "      <td>2011-05-13</td>\n",
              "      <td>30</td>\n",
              "      <td>2010-05-14</td>\n",
              "      <td>1</td>\n",
              "      <td>0.0</td>\n",
              "      <td>2010</td>\n",
              "      <td>5</td>\n",
              "      <td>14</td>\n",
              "      <td>2011</td>\n",
              "      <td>5</td>\n",
              "      <td>13</td>\n",
              "      <td>2010</td>\n",
              "      <td>5</td>\n",
              "      <td>14</td>\n",
              "      <td>0</td>\n",
              "      <td>1</td>\n",
              "      <td>0</td>\n",
              "      <td>0</td>\n",
              "      <td>0</td>\n",
              "      <td>0</td>\n",
              "      <td>0</td>\n",
              "      <td>0</td>\n",
              "      <td>0</td>\n",
              "      <td>0</td>\n",
              "      <td>0</td>\n",
              "      <td>1</td>\n",
              "      <td>0</td>\n",
              "      <td>0</td>\n",
              "      <td>0</td>\n",
              "      <td>0</td>\n",
              "      <td>0</td>\n",
              "      <td>0</td>\n",
              "      <td>0</td>\n",
              "      <td>0</td>\n",
              "      <td>0</td>\n",
              "      <td>0</td>\n",
              "      <td>0</td>\n",
              "      <td>1</td>\n",
              "      <td>...</td>\n",
              "      <td>0</td>\n",
              "      <td>0</td>\n",
              "      <td>0</td>\n",
              "      <td>0</td>\n",
              "      <td>0</td>\n",
              "      <td>0</td>\n",
              "      <td>0</td>\n",
              "      <td>0</td>\n",
              "      <td>0</td>\n",
              "      <td>0</td>\n",
              "      <td>0</td>\n",
              "      <td>0</td>\n",
              "      <td>0</td>\n",
              "      <td>0</td>\n",
              "      <td>0</td>\n",
              "      <td>0</td>\n",
              "      <td>0</td>\n",
              "      <td>0</td>\n",
              "      <td>0</td>\n",
              "      <td>0</td>\n",
              "      <td>0</td>\n",
              "      <td>0</td>\n",
              "      <td>0</td>\n",
              "      <td>0</td>\n",
              "      <td>0</td>\n",
              "      <td>0</td>\n",
              "      <td>0</td>\n",
              "      <td>0</td>\n",
              "      <td>0</td>\n",
              "      <td>0</td>\n",
              "      <td>0</td>\n",
              "      <td>0</td>\n",
              "      <td>1</td>\n",
              "      <td>0</td>\n",
              "      <td>0</td>\n",
              "      <td>0</td>\n",
              "      <td>0</td>\n",
              "      <td>0</td>\n",
              "      <td>0</td>\n",
              "      <td>0</td>\n",
              "    </tr>\n",
              "    <tr>\n",
              "      <th>1</th>\n",
              "      <td>0046BNK</td>\n",
              "      <td>2010-11-29</td>\n",
              "      <td>2011-11-28</td>\n",
              "      <td>79</td>\n",
              "      <td>2010-11-29</td>\n",
              "      <td>1</td>\n",
              "      <td>1.0</td>\n",
              "      <td>2010</td>\n",
              "      <td>11</td>\n",
              "      <td>29</td>\n",
              "      <td>2011</td>\n",
              "      <td>11</td>\n",
              "      <td>28</td>\n",
              "      <td>2010</td>\n",
              "      <td>11</td>\n",
              "      <td>29</td>\n",
              "      <td>1</td>\n",
              "      <td>0</td>\n",
              "      <td>0</td>\n",
              "      <td>0</td>\n",
              "      <td>0</td>\n",
              "      <td>1</td>\n",
              "      <td>0</td>\n",
              "      <td>0</td>\n",
              "      <td>0</td>\n",
              "      <td>0</td>\n",
              "      <td>0</td>\n",
              "      <td>0</td>\n",
              "      <td>0</td>\n",
              "      <td>0</td>\n",
              "      <td>0</td>\n",
              "      <td>0</td>\n",
              "      <td>0</td>\n",
              "      <td>0</td>\n",
              "      <td>0</td>\n",
              "      <td>0</td>\n",
              "      <td>0</td>\n",
              "      <td>0</td>\n",
              "      <td>0</td>\n",
              "      <td>0</td>\n",
              "      <td>...</td>\n",
              "      <td>0</td>\n",
              "      <td>0</td>\n",
              "      <td>0</td>\n",
              "      <td>0</td>\n",
              "      <td>0</td>\n",
              "      <td>0</td>\n",
              "      <td>0</td>\n",
              "      <td>0</td>\n",
              "      <td>0</td>\n",
              "      <td>0</td>\n",
              "      <td>0</td>\n",
              "      <td>0</td>\n",
              "      <td>0</td>\n",
              "      <td>0</td>\n",
              "      <td>0</td>\n",
              "      <td>0</td>\n",
              "      <td>0</td>\n",
              "      <td>0</td>\n",
              "      <td>0</td>\n",
              "      <td>0</td>\n",
              "      <td>0</td>\n",
              "      <td>0</td>\n",
              "      <td>0</td>\n",
              "      <td>0</td>\n",
              "      <td>0</td>\n",
              "      <td>0</td>\n",
              "      <td>0</td>\n",
              "      <td>0</td>\n",
              "      <td>0</td>\n",
              "      <td>0</td>\n",
              "      <td>0</td>\n",
              "      <td>0</td>\n",
              "      <td>1</td>\n",
              "      <td>0</td>\n",
              "      <td>0</td>\n",
              "      <td>0</td>\n",
              "      <td>0</td>\n",
              "      <td>0</td>\n",
              "      <td>0</td>\n",
              "      <td>0</td>\n",
              "    </tr>\n",
              "    <tr>\n",
              "      <th>2</th>\n",
              "      <td>005QMC3</td>\n",
              "      <td>2010-03-21</td>\n",
              "      <td>2011-03-20</td>\n",
              "      <td>43</td>\n",
              "      <td>2010-03-21</td>\n",
              "      <td>1</td>\n",
              "      <td>0.0</td>\n",
              "      <td>2010</td>\n",
              "      <td>3</td>\n",
              "      <td>21</td>\n",
              "      <td>2011</td>\n",
              "      <td>3</td>\n",
              "      <td>20</td>\n",
              "      <td>2010</td>\n",
              "      <td>3</td>\n",
              "      <td>21</td>\n",
              "      <td>0</td>\n",
              "      <td>1</td>\n",
              "      <td>0</td>\n",
              "      <td>0</td>\n",
              "      <td>0</td>\n",
              "      <td>0</td>\n",
              "      <td>0</td>\n",
              "      <td>0</td>\n",
              "      <td>0</td>\n",
              "      <td>0</td>\n",
              "      <td>0</td>\n",
              "      <td>1</td>\n",
              "      <td>0</td>\n",
              "      <td>0</td>\n",
              "      <td>0</td>\n",
              "      <td>0</td>\n",
              "      <td>0</td>\n",
              "      <td>0</td>\n",
              "      <td>0</td>\n",
              "      <td>0</td>\n",
              "      <td>0</td>\n",
              "      <td>0</td>\n",
              "      <td>0</td>\n",
              "      <td>0</td>\n",
              "      <td>...</td>\n",
              "      <td>0</td>\n",
              "      <td>0</td>\n",
              "      <td>0</td>\n",
              "      <td>0</td>\n",
              "      <td>0</td>\n",
              "      <td>0</td>\n",
              "      <td>0</td>\n",
              "      <td>0</td>\n",
              "      <td>0</td>\n",
              "      <td>0</td>\n",
              "      <td>0</td>\n",
              "      <td>0</td>\n",
              "      <td>0</td>\n",
              "      <td>0</td>\n",
              "      <td>0</td>\n",
              "      <td>0</td>\n",
              "      <td>0</td>\n",
              "      <td>0</td>\n",
              "      <td>0</td>\n",
              "      <td>0</td>\n",
              "      <td>0</td>\n",
              "      <td>0</td>\n",
              "      <td>0</td>\n",
              "      <td>0</td>\n",
              "      <td>0</td>\n",
              "      <td>0</td>\n",
              "      <td>0</td>\n",
              "      <td>0</td>\n",
              "      <td>0</td>\n",
              "      <td>0</td>\n",
              "      <td>0</td>\n",
              "      <td>0</td>\n",
              "      <td>1</td>\n",
              "      <td>0</td>\n",
              "      <td>0</td>\n",
              "      <td>0</td>\n",
              "      <td>0</td>\n",
              "      <td>0</td>\n",
              "      <td>0</td>\n",
              "      <td>0</td>\n",
              "    </tr>\n",
              "    <tr>\n",
              "      <th>3</th>\n",
              "      <td>0079OHW</td>\n",
              "      <td>2010-08-21</td>\n",
              "      <td>2011-08-20</td>\n",
              "      <td>2</td>\n",
              "      <td>2010-08-21</td>\n",
              "      <td>1</td>\n",
              "      <td>0.0</td>\n",
              "      <td>2010</td>\n",
              "      <td>8</td>\n",
              "      <td>21</td>\n",
              "      <td>2011</td>\n",
              "      <td>8</td>\n",
              "      <td>20</td>\n",
              "      <td>2010</td>\n",
              "      <td>8</td>\n",
              "      <td>21</td>\n",
              "      <td>0</td>\n",
              "      <td>1</td>\n",
              "      <td>0</td>\n",
              "      <td>0</td>\n",
              "      <td>0</td>\n",
              "      <td>0</td>\n",
              "      <td>0</td>\n",
              "      <td>0</td>\n",
              "      <td>0</td>\n",
              "      <td>0</td>\n",
              "      <td>0</td>\n",
              "      <td>1</td>\n",
              "      <td>0</td>\n",
              "      <td>0</td>\n",
              "      <td>0</td>\n",
              "      <td>0</td>\n",
              "      <td>0</td>\n",
              "      <td>0</td>\n",
              "      <td>0</td>\n",
              "      <td>0</td>\n",
              "      <td>0</td>\n",
              "      <td>0</td>\n",
              "      <td>0</td>\n",
              "      <td>1</td>\n",
              "      <td>...</td>\n",
              "      <td>0</td>\n",
              "      <td>0</td>\n",
              "      <td>0</td>\n",
              "      <td>0</td>\n",
              "      <td>0</td>\n",
              "      <td>0</td>\n",
              "      <td>0</td>\n",
              "      <td>0</td>\n",
              "      <td>0</td>\n",
              "      <td>0</td>\n",
              "      <td>0</td>\n",
              "      <td>0</td>\n",
              "      <td>0</td>\n",
              "      <td>0</td>\n",
              "      <td>0</td>\n",
              "      <td>0</td>\n",
              "      <td>0</td>\n",
              "      <td>0</td>\n",
              "      <td>0</td>\n",
              "      <td>0</td>\n",
              "      <td>0</td>\n",
              "      <td>0</td>\n",
              "      <td>0</td>\n",
              "      <td>0</td>\n",
              "      <td>0</td>\n",
              "      <td>0</td>\n",
              "      <td>0</td>\n",
              "      <td>0</td>\n",
              "      <td>0</td>\n",
              "      <td>0</td>\n",
              "      <td>0</td>\n",
              "      <td>0</td>\n",
              "      <td>0</td>\n",
              "      <td>0</td>\n",
              "      <td>0</td>\n",
              "      <td>0</td>\n",
              "      <td>1</td>\n",
              "      <td>0</td>\n",
              "      <td>0</td>\n",
              "      <td>0</td>\n",
              "    </tr>\n",
              "    <tr>\n",
              "      <th>4</th>\n",
              "      <td>00BRP63</td>\n",
              "      <td>2010-08-29</td>\n",
              "      <td>2010-12-31</td>\n",
              "      <td>20</td>\n",
              "      <td>2010-08-29</td>\n",
              "      <td>3</td>\n",
              "      <td>1.0</td>\n",
              "      <td>2010</td>\n",
              "      <td>8</td>\n",
              "      <td>29</td>\n",
              "      <td>2010</td>\n",
              "      <td>12</td>\n",
              "      <td>31</td>\n",
              "      <td>2010</td>\n",
              "      <td>8</td>\n",
              "      <td>29</td>\n",
              "      <td>0</td>\n",
              "      <td>0</td>\n",
              "      <td>1</td>\n",
              "      <td>0</td>\n",
              "      <td>0</td>\n",
              "      <td>0</td>\n",
              "      <td>0</td>\n",
              "      <td>0</td>\n",
              "      <td>0</td>\n",
              "      <td>0</td>\n",
              "      <td>0</td>\n",
              "      <td>1</td>\n",
              "      <td>0</td>\n",
              "      <td>0</td>\n",
              "      <td>0</td>\n",
              "      <td>0</td>\n",
              "      <td>0</td>\n",
              "      <td>0</td>\n",
              "      <td>0</td>\n",
              "      <td>0</td>\n",
              "      <td>0</td>\n",
              "      <td>0</td>\n",
              "      <td>0</td>\n",
              "      <td>1</td>\n",
              "      <td>...</td>\n",
              "      <td>0</td>\n",
              "      <td>0</td>\n",
              "      <td>0</td>\n",
              "      <td>0</td>\n",
              "      <td>0</td>\n",
              "      <td>0</td>\n",
              "      <td>0</td>\n",
              "      <td>0</td>\n",
              "      <td>0</td>\n",
              "      <td>0</td>\n",
              "      <td>0</td>\n",
              "      <td>0</td>\n",
              "      <td>0</td>\n",
              "      <td>0</td>\n",
              "      <td>0</td>\n",
              "      <td>0</td>\n",
              "      <td>0</td>\n",
              "      <td>0</td>\n",
              "      <td>0</td>\n",
              "      <td>0</td>\n",
              "      <td>0</td>\n",
              "      <td>0</td>\n",
              "      <td>0</td>\n",
              "      <td>0</td>\n",
              "      <td>0</td>\n",
              "      <td>0</td>\n",
              "      <td>0</td>\n",
              "      <td>0</td>\n",
              "      <td>0</td>\n",
              "      <td>0</td>\n",
              "      <td>0</td>\n",
              "      <td>0</td>\n",
              "      <td>0</td>\n",
              "      <td>0</td>\n",
              "      <td>0</td>\n",
              "      <td>0</td>\n",
              "      <td>0</td>\n",
              "      <td>0</td>\n",
              "      <td>0</td>\n",
              "      <td>1</td>\n",
              "    </tr>\n",
              "  </tbody>\n",
              "</table>\n",
              "<p>5 rows × 548 columns</p>\n",
              "</div>"
            ],
            "text/plain": [
              "        ID Policy Start Date  ... ProductName_Motor Cycle  ProductName_Muuve\n",
              "0  0040R73        2010-05-14  ...                       0                  0\n",
              "1  0046BNK        2010-11-29  ...                       0                  0\n",
              "2  005QMC3        2010-03-21  ...                       0                  0\n",
              "3  0079OHW        2010-08-21  ...                       0                  0\n",
              "4  00BRP63        2010-08-29  ...                       0                  1\n",
              "\n",
              "[5 rows x 548 columns]"
            ]
          },
          "metadata": {
            "tags": []
          },
          "execution_count": 20
        }
      ]
    },
    {
      "cell_type": "code",
      "metadata": {
        "colab": {
          "base_uri": "https://localhost:8080/"
        },
        "id": "BibprFWLdRAy",
        "outputId": "f48a22bd-dee0-4be3-e103-ffc34bb43b62"
      },
      "source": [
        "# Separate train and test data from the combined dataframe\r\n",
        "train_df = all_data[:ntrain]\r\n",
        "test_df = all_data[ntrain:]\r\n",
        "\r\n",
        "# Check the shapes of the split dataset\r\n",
        "train_df.shape, test_df.shape"
      ],
      "execution_count": 21,
      "outputs": [
        {
          "output_type": "execute_result",
          "data": {
            "text/plain": [
              "((12079, 548), (5177, 548))"
            ]
          },
          "metadata": {
            "tags": []
          },
          "execution_count": 21
        }
      ]
    },
    {
      "cell_type": "markdown",
      "metadata": {
        "id": "Rv9axjwXh2Ij"
      },
      "source": [
        "### Training and making predictions\r\n",
        "Tips:\r\n",
        "- Is lgbm the best model for this challenge?\r\n",
        "- Parameter tuning\r\n",
        " - Grid search, random search, perhaps bayesian search works better...\r\n",
        "\r\n"
      ]
    },
    {
      "cell_type": "code",
      "metadata": {
        "id": "w0EL1Fk222y-",
        "colab": {
          "base_uri": "https://localhost:8080/"
        },
        "outputId": "7c5142f0-8ed0-4a67-a5da-e930abe0b8f7"
      },
      "source": [
        "# Select main columns to be used in training\r\n",
        "main_cols = all_data.columns.difference(date_cols+['ID', 'target'])\r\n",
        "X = train_df[main_cols]\r\n",
        "y = train_df.target\r\n",
        "\r\n",
        "# Split data into train and test sets\r\n",
        "X_train, X_test, y_train, y_test = train_test_split(X,y,test_size=0.3, random_state=42)\r\n",
        "\r\n",
        "# Train model\r\n",
        "model = LGBMClassifier()\r\n",
        "model.fit(X_train, y_train)\r\n",
        "\r\n",
        "# Make predictions\r\n",
        "y_pred = model.predict(X_test)\r\n",
        "\r\n",
        "# Check the f1 score of the model\r\n",
        "print(f'F1 score on the X_test is: {f1_score(y_test, y_pred)}')"
      ],
      "execution_count": 22,
      "outputs": [
        {
          "output_type": "stream",
          "text": [
            "F1 score on the X_test is: 0.19413919413919412\n"
          ],
          "name": "stdout"
        }
      ]
    },
    {
      "cell_type": "markdown",
      "metadata": {
        "id": "WZ6h0Ho3qOCV"
      },
      "source": [
        "#### [More on F1 Score](https://en.wikipedia.org/wiki/F-score)"
      ]
    },
    {
      "cell_type": "markdown",
      "metadata": {
        "id": "k_LHEtrph7Kk"
      },
      "source": [
        "### Making predictions of the test set and creating a submission file"
      ]
    },
    {
      "cell_type": "code",
      "metadata": {
        "colab": {
          "base_uri": "https://localhost:8080/",
          "height": 265
        },
        "id": "OP8EX6NZfSCP",
        "outputId": "cfdc1bfb-8f7a-40b3-9a6a-6613b7b3193b"
      },
      "source": [
        "# Make prediction on the test set\r\n",
        "test_df = test_df[main_cols]\r\n",
        "predictions = model.predict(test_df)\r\n",
        "\r\n",
        "# Create a submission file\r\n",
        "sub_file = ss.copy()\r\n",
        "sub_file.predictions = predictions\r\n",
        "\r\n",
        "# Check the distribution of your predictions\r\n",
        "sns.countplot(sub_file.predictions);"
      ],
      "execution_count": 23,
      "outputs": [
        {
          "output_type": "display_data",
          "data": {
            "image/png": "[encoded data removed]",
            "text/plain": [
              "<Figure size 432x288 with 1 Axes>"
            ]
          },
          "metadata": {
            "tags": [],
            "needs_background": "light"
          }
        }
      ]
    },
    {
      "cell_type": "code",
      "metadata": {
        "id": "sm_jTS4022y-"
      },
      "source": [
        "# Create a csv file and upload to zindi \r\n",
        "sub_file.to_csv('Baseline.csv', index = False)"
      ],
      "execution_count": 24,
      "outputs": []
    },
    {
      "cell_type": "markdown",
      "metadata": {
        "id": "ttQqWBi722zE"
      },
      "source": [
        "###More Tips\n",
        "- Thorough EDA and domain knowledge sourcing\n",
        "- Re-group Categorical features \n",
        "- More Feature Engineering \n",
        "- Dataset balancing - oversampling, undersampling, SMOTE...\n",
        "- Ensembling of models \n",
        "- Cross-validation: Group folds, Stratified..."
      ]
    },
    {
      "cell_type": "markdown",
      "metadata": {
        "id": "uXftXbo622zF"
      },
      "source": [
        "# ******************* GOOD LUCK!!! ***************************"
      ]
    }
  ]
}