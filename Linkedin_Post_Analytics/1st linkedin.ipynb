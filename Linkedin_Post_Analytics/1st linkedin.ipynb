{
 "cells": [
  {
   "cell_type": "code",
   "execution_count": 1,
   "id": "c895811a",
   "metadata": {},
   "outputs": [
    {
     "data": {
      "text/plain": [
       "'C:\\\\ProgramData\\\\Anaconda3'"
      ]
     },
     "execution_count": 1,
     "metadata": {},
     "output_type": "execute_result"
    }
   ],
   "source": [
    "import os\n",
    "import sys\n",
    "os.path.dirname(sys.executable)"
   ]
  },
  {
   "cell_type": "code",
   "execution_count": 2,
   "id": "96c8c084",
   "metadata": {},
   "outputs": [],
   "source": [
    "# !pip3 install -U selenium"
   ]
  },
  {
   "cell_type": "code",
   "execution_count": 3,
   "id": "0929d8ed",
   "metadata": {},
   "outputs": [],
   "source": [
    "# !pip3 install webdriver-manager"
   ]
  },
  {
   "cell_type": "code",
   "execution_count": 4,
   "id": "b651950d",
   "metadata": {},
   "outputs": [],
   "source": [
    "# !pip install beautifulsoup4 requests"
   ]
  },
  {
   "cell_type": "code",
   "execution_count": 3,
   "id": "8201c1c0",
   "metadata": {},
   "outputs": [],
   "source": [
    "import requests"
   ]
  },
  {
   "cell_type": "code",
   "execution_count": 4,
   "id": "0abe1099",
   "metadata": {},
   "outputs": [],
   "source": [
    "from selenium import webdriver\n",
    "from selenium.webdriver.chrome.options import Options\n",
    "from selenium.webdriver.chrome.service import Service\n",
    "from webdriver_manager.chrome import ChromeDriverManager\n",
    "from webdriver\n",
    "from selenium.webdriver.common.by import By\n",
    "import pandas as pd"
   ]
  },
  {
   "cell_type": "markdown",
   "id": "5c3fcda0",
   "metadata": {},
   "source": [
    "<!-- !pip install selenium -->"
   ]
  },
  {
   "cell_type": "code",
   "execution_count": 5,
   "id": "fb4aac12",
   "metadata": {},
   "outputs": [],
   "source": [
    "# # importing packages for managing web scrapping\n",
    "# from selenium import webdriver\n",
    "# # this is tested on Firefox or you can use \"webdriver.Chrome()\"\n",
    "from bs4 import BeautifulSoup\n",
    "import re\n",
    "import time\n",
    "from time import sleep"
   ]
  },
  {
   "cell_type": "code",
   "execution_count": 6,
   "id": "dd5c0967",
   "metadata": {},
   "outputs": [],
   "source": [
    "# import parsel"
   ]
  },
  {
   "cell_type": "code",
   "execution_count": 9,
   "id": "78cfd516",
   "metadata": {},
   "outputs": [],
   "source": [
    "# import pandas as pd"
   ]
  },
  {
   "cell_type": "code",
   "execution_count": 10,
   "id": "411e6ebb",
   "metadata": {},
   "outputs": [],
   "source": [
    "# import getpass\n",
    "# import csv\n",
    "# from parsel import Selector"
   ]
  },
  {
   "cell_type": "code",
   "execution_count": null,
   "id": "c3edef76",
   "metadata": {},
   "outputs": [
    {
     "name": "stdout",
     "output_type": "stream",
     "text": [
      "Please enter the exact LinkedIn username you use to login (email/phone?):\n"
     ]
    }
   ],
   "source": [
    "#request user input for LinkedIn username and password:\n",
    "print(\"Please enter the exact LinkedIn username you use to login (email/phone?):\")\n",
    "username_string = str(input()) \n",
    "print()\n",
    "print(\"Please enter the exact LinkedIn password:\")\n",
    "password_string = str(input())\n",
    "print()\n",
    "print(\"Please enter your username exactly how it appears in your profile link (after '/in') :\")\n",
    "link_username = str(input())\n",
    "print()\n",
    "print(\"Please enter the number of the last posts you want to analyse:\")\n",
    "number_of_posts = int(input())"
   ]
  },
  {
   "cell_type": "code",
   "execution_count": null,
   "id": "0159b946",
   "metadata": {},
   "outputs": [],
   "source": [
    "# browser = webdriver.Chrome()"
   ]
  },
  {
   "cell_type": "code",
   "execution_count": null,
   "id": "03f36d84",
   "metadata": {},
   "outputs": [],
   "source": [
    "# browser = webdriver.Chrome(executable_path=\"C:/Users/olaye/AppData/Roaming/Python/Python39/site-packages/chromedriver.exe.\")"
   ]
  },
  {
   "cell_type": "code",
   "execution_count": null,
   "id": "f1f78f5f",
   "metadata": {},
   "outputs": [],
   "source": [
    "# browser.get(\"https://www.google.com/\")  # if you want to access google\n",
    "# browser.get(\"https://www.linkedin.com/login\")  # if you want to access linkedin"
   ]
  },
  {
   "cell_type": "code",
   "execution_count": null,
   "id": "6677bb8b",
   "metadata": {},
   "outputs": [],
   "source": [
    "# ?webdriver.Chrome"
   ]
  },
  {
   "cell_type": "code",
   "execution_count": null,
   "id": "2d090813",
   "metadata": {},
   "outputs": [],
   "source": [
    "# #open the LinkedIn login page and login under a specified account:\n",
    "# browser.get('https://www.linkedin.com/login')"
   ]
  },
  {
   "cell_type": "code",
   "execution_count": 8,
   "id": "f90b6de1",
   "metadata": {},
   "outputs": [
    {
     "name": "stderr",
     "output_type": "stream",
     "text": [
      "[WDM] - Downloading: 100%|█████████████████████████████████████████████████████████| 6.78M/6.78M [00:13<00:00, 539kB/s]\n"
     ]
    }
   ],
   "source": [
    "options = Options()\n",
    "options.add_argument(\"start-maximized\")\n",
    "browser = webdriver.Chrome(service=Service(ChromeDriverManager().install()), options=options)\n",
    "browser.get(\"https://www.linkedin.com/login\")"
   ]
  },
  {
   "cell_type": "code",
   "execution_count": 9,
   "id": "9e33c637",
   "metadata": {},
   "outputs": [],
   "source": [
    "#enter the specified information to login to LinkedIn:\n",
    "elementID = browser.find_element('id', 'username')"
   ]
  },
  {
   "cell_type": "code",
   "execution_count": 10,
   "id": "0a552a5b",
   "metadata": {},
   "outputs": [],
   "source": [
    "elementID.send_keys(username_string)"
   ]
  },
  {
   "cell_type": "code",
   "execution_count": 11,
   "id": "a68d7b94",
   "metadata": {},
   "outputs": [],
   "source": [
    "elementID = browser.find_element('id','password')"
   ]
  },
  {
   "cell_type": "code",
   "execution_count": 12,
   "id": "5d927c78",
   "metadata": {},
   "outputs": [],
   "source": [
    "elementID.send_keys(password_string)"
   ]
  },
  {
   "cell_type": "code",
   "execution_count": 13,
   "id": "2454c705",
   "metadata": {},
   "outputs": [],
   "source": [
    "elementID.submit()"
   ]
  },
  {
   "cell_type": "code",
   "execution_count": 15,
   "id": "4c949fae",
   "metadata": {},
   "outputs": [],
   "source": [
    "#open the recent post activity page of the LinkedIn user you specified:\n",
    "recent_activity_link = \"https://www.linkedin.com/in/\" + link_username + \"/detail/recent-activity/shares/\""
   ]
  },
  {
   "cell_type": "code",
   "execution_count": 16,
   "id": "9e45ba6f",
   "metadata": {},
   "outputs": [],
   "source": [
    "browser.get(recent_activity_link)"
   ]
  },
  {
   "cell_type": "code",
   "execution_count": 26,
   "id": "57117a98",
   "metadata": {},
   "outputs": [
    {
     "data": {
      "text/plain": [
       "selenium.webdriver.chrome.webdriver.WebDriver"
      ]
     },
     "execution_count": 26,
     "metadata": {},
     "output_type": "execute_result"
    }
   ],
   "source": [
    "type(browser)"
   ]
  },
  {
   "cell_type": "code",
   "execution_count": 25,
   "id": "e480322b",
   "metadata": {},
   "outputs": [
    {
     "ename": "InvalidArgumentException",
     "evalue": "Message: invalid argument: invalid locator\n  (Session info: chrome=110.0.5481.178)\nStacktrace:\nBacktrace:\n\t(No symbol) [0x003F37D3]\n\t(No symbol) [0x00388B81]\n\t(No symbol) [0x0028B36D]\n\t(No symbol) [0x002BD433]\n\t(No symbol) [0x002BD4BB]\n\t(No symbol) [0x002F3302]\n\t(No symbol) [0x002DB464]\n\t(No symbol) [0x002F1215]\n\t(No symbol) [0x002DB216]\n\t(No symbol) [0x002B0D97]\n\t(No symbol) [0x002B253D]\n\tGetHandleVerifier [0x0066ABF2+2510930]\n\tGetHandleVerifier [0x00698EC1+2700065]\n\tGetHandleVerifier [0x0069C86C+2714828]\n\tGetHandleVerifier [0x004A3480+645344]\n\t(No symbol) [0x00390FD2]\n\t(No symbol) [0x00396C68]\n\t(No symbol) [0x00396D4B]\n\t(No symbol) [0x003A0D6B]\n\tBaseThreadInitThunk [0x75436359+25]\n\tRtlGetAppContainerNamedObjectPath [0x77BF7C14+228]\n\tRtlGetAppContainerNamedObjectPath [0x77BF7BE4+180]\n",
     "output_type": "error",
     "traceback": [
      "\u001b[1;31m---------------------------------------------------------------------------\u001b[0m",
      "\u001b[1;31mInvalidArgumentException\u001b[0m                  Traceback (most recent call last)",
      "\u001b[1;32m~\\AppData\\Local\\Temp\\ipykernel_7732\\364658898.py\u001b[0m in \u001b[0;36m<module>\u001b[1;34m\u001b[0m\n\u001b[1;32m----> 1\u001b[1;33m \u001b[0melement\u001b[0m \u001b[1;33m=\u001b[0m \u001b[0mbrowser\u001b[0m\u001b[1;33m.\u001b[0m\u001b[0mfind_element\u001b[0m\u001b[1;33m(\u001b[0m\u001b[1;34m\"class\"\u001b[0m\u001b[1;33m,\u001b[0m\u001b[1;34m\"//input[@id='hue-web-icons-sprite']\"\u001b[0m\u001b[1;33m)\u001b[0m\u001b[1;33m\u001b[0m\u001b[1;33m\u001b[0m\u001b[0m\n\u001b[0m\u001b[0;32m      2\u001b[0m \u001b[0mbrowser\u001b[0m\u001b[1;33m.\u001b[0m\u001b[0mexecute_script\u001b[0m\u001b[1;33m(\u001b[0m\u001b[1;34m\"arguments[0].click();\"\u001b[0m\u001b[1;33m,\u001b[0m \u001b[0melement\u001b[0m\u001b[1;33m)\u001b[0m\u001b[1;33m\u001b[0m\u001b[1;33m\u001b[0m\u001b[0m\n",
      "\u001b[1;32m~\\AppData\\Roaming\\Python\\Python39\\site-packages\\selenium\\webdriver\\remote\\webdriver.py\u001b[0m in \u001b[0;36mfind_element\u001b[1;34m(self, by, value)\u001b[0m\n\u001b[0;32m    828\u001b[0m             \u001b[0mvalue\u001b[0m \u001b[1;33m=\u001b[0m \u001b[1;34mf'[name=\"{value}\"]'\u001b[0m\u001b[1;33m\u001b[0m\u001b[1;33m\u001b[0m\u001b[0m\n\u001b[0;32m    829\u001b[0m \u001b[1;33m\u001b[0m\u001b[0m\n\u001b[1;32m--> 830\u001b[1;33m         \u001b[1;32mreturn\u001b[0m \u001b[0mself\u001b[0m\u001b[1;33m.\u001b[0m\u001b[0mexecute\u001b[0m\u001b[1;33m(\u001b[0m\u001b[0mCommand\u001b[0m\u001b[1;33m.\u001b[0m\u001b[0mFIND_ELEMENT\u001b[0m\u001b[1;33m,\u001b[0m \u001b[1;33m{\u001b[0m\u001b[1;34m\"using\"\u001b[0m\u001b[1;33m:\u001b[0m \u001b[0mby\u001b[0m\u001b[1;33m,\u001b[0m \u001b[1;34m\"value\"\u001b[0m\u001b[1;33m:\u001b[0m \u001b[0mvalue\u001b[0m\u001b[1;33m}\u001b[0m\u001b[1;33m)\u001b[0m\u001b[1;33m[\u001b[0m\u001b[1;34m\"value\"\u001b[0m\u001b[1;33m]\u001b[0m\u001b[1;33m\u001b[0m\u001b[1;33m\u001b[0m\u001b[0m\n\u001b[0m\u001b[0;32m    831\u001b[0m \u001b[1;33m\u001b[0m\u001b[0m\n\u001b[0;32m    832\u001b[0m     \u001b[1;32mdef\u001b[0m \u001b[0mfind_elements\u001b[0m\u001b[1;33m(\u001b[0m\u001b[0mself\u001b[0m\u001b[1;33m,\u001b[0m \u001b[0mby\u001b[0m\u001b[1;33m=\u001b[0m\u001b[0mBy\u001b[0m\u001b[1;33m.\u001b[0m\u001b[0mID\u001b[0m\u001b[1;33m,\u001b[0m \u001b[0mvalue\u001b[0m\u001b[1;33m:\u001b[0m \u001b[0mOptional\u001b[0m\u001b[1;33m[\u001b[0m\u001b[0mstr\u001b[0m\u001b[1;33m]\u001b[0m \u001b[1;33m=\u001b[0m \u001b[1;32mNone\u001b[0m\u001b[1;33m)\u001b[0m \u001b[1;33m->\u001b[0m \u001b[0mList\u001b[0m\u001b[1;33m[\u001b[0m\u001b[0mWebElement\u001b[0m\u001b[1;33m]\u001b[0m\u001b[1;33m:\u001b[0m\u001b[1;33m\u001b[0m\u001b[1;33m\u001b[0m\u001b[0m\n",
      "\u001b[1;32m~\\AppData\\Roaming\\Python\\Python39\\site-packages\\selenium\\webdriver\\remote\\webdriver.py\u001b[0m in \u001b[0;36mexecute\u001b[1;34m(self, driver_command, params)\u001b[0m\n\u001b[0;32m    438\u001b[0m         \u001b[0mresponse\u001b[0m \u001b[1;33m=\u001b[0m \u001b[0mself\u001b[0m\u001b[1;33m.\u001b[0m\u001b[0mcommand_executor\u001b[0m\u001b[1;33m.\u001b[0m\u001b[0mexecute\u001b[0m\u001b[1;33m(\u001b[0m\u001b[0mdriver_command\u001b[0m\u001b[1;33m,\u001b[0m \u001b[0mparams\u001b[0m\u001b[1;33m)\u001b[0m\u001b[1;33m\u001b[0m\u001b[1;33m\u001b[0m\u001b[0m\n\u001b[0;32m    439\u001b[0m         \u001b[1;32mif\u001b[0m \u001b[0mresponse\u001b[0m\u001b[1;33m:\u001b[0m\u001b[1;33m\u001b[0m\u001b[1;33m\u001b[0m\u001b[0m\n\u001b[1;32m--> 440\u001b[1;33m             \u001b[0mself\u001b[0m\u001b[1;33m.\u001b[0m\u001b[0merror_handler\u001b[0m\u001b[1;33m.\u001b[0m\u001b[0mcheck_response\u001b[0m\u001b[1;33m(\u001b[0m\u001b[0mresponse\u001b[0m\u001b[1;33m)\u001b[0m\u001b[1;33m\u001b[0m\u001b[1;33m\u001b[0m\u001b[0m\n\u001b[0m\u001b[0;32m    441\u001b[0m             \u001b[0mresponse\u001b[0m\u001b[1;33m[\u001b[0m\u001b[1;34m\"value\"\u001b[0m\u001b[1;33m]\u001b[0m \u001b[1;33m=\u001b[0m \u001b[0mself\u001b[0m\u001b[1;33m.\u001b[0m\u001b[0m_unwrap_value\u001b[0m\u001b[1;33m(\u001b[0m\u001b[0mresponse\u001b[0m\u001b[1;33m.\u001b[0m\u001b[0mget\u001b[0m\u001b[1;33m(\u001b[0m\u001b[1;34m\"value\"\u001b[0m\u001b[1;33m,\u001b[0m \u001b[1;32mNone\u001b[0m\u001b[1;33m)\u001b[0m\u001b[1;33m)\u001b[0m\u001b[1;33m\u001b[0m\u001b[1;33m\u001b[0m\u001b[0m\n\u001b[0;32m    442\u001b[0m             \u001b[1;32mreturn\u001b[0m \u001b[0mresponse\u001b[0m\u001b[1;33m\u001b[0m\u001b[1;33m\u001b[0m\u001b[0m\n",
      "\u001b[1;32m~\\AppData\\Roaming\\Python\\Python39\\site-packages\\selenium\\webdriver\\remote\\errorhandler.py\u001b[0m in \u001b[0;36mcheck_response\u001b[1;34m(self, response)\u001b[0m\n\u001b[0;32m    243\u001b[0m                 \u001b[0malert_text\u001b[0m \u001b[1;33m=\u001b[0m \u001b[0mvalue\u001b[0m\u001b[1;33m[\u001b[0m\u001b[1;34m\"alert\"\u001b[0m\u001b[1;33m]\u001b[0m\u001b[1;33m.\u001b[0m\u001b[0mget\u001b[0m\u001b[1;33m(\u001b[0m\u001b[1;34m\"text\"\u001b[0m\u001b[1;33m)\u001b[0m\u001b[1;33m\u001b[0m\u001b[1;33m\u001b[0m\u001b[0m\n\u001b[0;32m    244\u001b[0m             \u001b[1;32mraise\u001b[0m \u001b[0mexception_class\u001b[0m\u001b[1;33m(\u001b[0m\u001b[0mmessage\u001b[0m\u001b[1;33m,\u001b[0m \u001b[0mscreen\u001b[0m\u001b[1;33m,\u001b[0m \u001b[0mstacktrace\u001b[0m\u001b[1;33m,\u001b[0m \u001b[0malert_text\u001b[0m\u001b[1;33m)\u001b[0m  \u001b[1;31m# type: ignore[call-arg]  # mypy is not smart enough here\u001b[0m\u001b[1;33m\u001b[0m\u001b[1;33m\u001b[0m\u001b[0m\n\u001b[1;32m--> 245\u001b[1;33m         \u001b[1;32mraise\u001b[0m \u001b[0mexception_class\u001b[0m\u001b[1;33m(\u001b[0m\u001b[0mmessage\u001b[0m\u001b[1;33m,\u001b[0m \u001b[0mscreen\u001b[0m\u001b[1;33m,\u001b[0m \u001b[0mstacktrace\u001b[0m\u001b[1;33m)\u001b[0m\u001b[1;33m\u001b[0m\u001b[1;33m\u001b[0m\u001b[0m\n\u001b[0m",
      "\u001b[1;31mInvalidArgumentException\u001b[0m: Message: invalid argument: invalid locator\n  (Session info: chrome=110.0.5481.178)\nStacktrace:\nBacktrace:\n\t(No symbol) [0x003F37D3]\n\t(No symbol) [0x00388B81]\n\t(No symbol) [0x0028B36D]\n\t(No symbol) [0x002BD433]\n\t(No symbol) [0x002BD4BB]\n\t(No symbol) [0x002F3302]\n\t(No symbol) [0x002DB464]\n\t(No symbol) [0x002F1215]\n\t(No symbol) [0x002DB216]\n\t(No symbol) [0x002B0D97]\n\t(No symbol) [0x002B253D]\n\tGetHandleVerifier [0x0066ABF2+2510930]\n\tGetHandleVerifier [0x00698EC1+2700065]\n\tGetHandleVerifier [0x0069C86C+2714828]\n\tGetHandleVerifier [0x004A3480+645344]\n\t(No symbol) [0x00390FD2]\n\t(No symbol) [0x00396C68]\n\t(No symbol) [0x00396D4B]\n\t(No symbol) [0x003A0D6B]\n\tBaseThreadInitThunk [0x75436359+25]\n\tRtlGetAppContainerNamedObjectPath [0x77BF7C14+228]\n\tRtlGetAppContainerNamedObjectPath [0x77BF7BE4+180]\n"
     ]
    }
   ],
   "source": [
    "element = browser.find_element(\"class\",\"//input[@id='hue-web-icons-sprite']\")\n",
    "browser.execute_script(\"arguments[0].click();\", element)"
   ]
  },
  {
   "cell_type": "code",
   "execution_count": null,
   "id": "a5a9182a",
   "metadata": {},
   "outputs": [],
   "source": [
    "########################################################\n",
    "#______________STEP_2:_SCRAPE_POST_STATS_______________#\n",
    "########################################################\n",
    "\n",
    "\n",
    "#calculate number of scrolls depending on the input\n",
    "number_of_scrolls = -(-number_of_posts // 5)  # 5 is LinkedIn's number of posts per scroll\n",
    "\n",
    "#we need a loop because we have a particular number of scrolls...\n",
    "likes = []\n",
    "comments = []\n",
    "views = []\n",
    "\n",
    "SCROLL_PAUSE_TIME = 5\n",
    "\n",
    "# Get scroll height\n",
    "last_height = browser.execute_script(\"return document.body.scrollHeight\")\n",
    "\n",
    "for scroll in range(number_of_scrolls) : \n",
    "    # Scroll down to bottom\n",
    "    browser.execute_script(\"window.scrollTo(0, document.body.scrollHeight);\")\n",
    "    # Wait to load page\n",
    "    time.sleep(SCROLL_PAUSE_TIME)\n",
    "    # Calculate new scroll height and compare with last scroll height\n",
    "    new_height = browser.execute_script(\"return document.body.scrollHeight\")\n",
    "    if new_height == last_height:\n",
    "        break\n",
    "    last_height = new_height    \n",
    "\n",
    "#query the contents (returns service reponse object with web contents, url headers, status and other):\n",
    "src = browser.page_source\n",
    "#beautiful soup instance:\n",
    "soup = BeautifulSoup(src, features=\"lxml\")   #lxml\n",
    "    \n",
    "#find LIKES on LinkedIn\n",
    "#look for \"span\" tags that have the specific following attribute (click 'inspect' on the L-in page)\n",
    "#need to convert the list of bs4 tags into strings and then extract \n",
    "#find these specific tags (\"<stuff>\") in the soup contents:\n",
    "\n",
    "likes_bs4tags = soup.find_all(\"span\", attrs = {\"class\" : \"v-align-middle social-details-social-counts__reactions-count\"})\n",
    "#converts a list of 1 string to int, appends to likes list\n",
    "for tag in likes_bs4tags:\n",
    "    strtag = str(tag)\n",
    "    #the first argument in findall (below) is a regular expression (accounts for commas in the number)\n",
    "    list_of_matches = re.findall('[,0-9]+',strtag)\n",
    "    #converts the last element (string) in the list to int, appends to likes list\n",
    "    last_string = list_of_matches.pop()\n",
    "    without_comma = last_string.replace(',','')\n",
    "    likes_int = int(without_comma)\n",
    "    likes.append(likes_int)\n",
    "        \n",
    "#find COMMENTS on LinkedIn\n",
    "#same concept here\n",
    "comments_bs4tags = soup.find_all(\"li\", attrs = {\"class\" : \"social-details-social-counts__item social-details-social-counts__comments\"})\n",
    "for tag in comments_bs4tags:\n",
    "    strtag = str(tag)\n",
    "    list_of_matches = re.findall('[,0-9]+',strtag)\n",
    "    last_string = list_of_matches.pop()\n",
    "    without_comma = last_string.replace(',','')\n",
    "    comments_int = int(without_comma)\n",
    "    comments.append(comments_int)\n",
    "        \n",
    "#find VIEWS on LinkedIn\n",
    "#same concept here\n",
    "views_bs4tags = soup.find_all(\"span\", attrs = {\"class\" : \"icon-and-text-container t-14 t-black--light t-normal\"})\n",
    "for tag in views_bs4tags:\n",
    "    strtag = str(tag)\n",
    "    list_of_matches = re.findall('[,0-9]+',strtag)\n",
    "    last_string = list_of_matches.pop()\n",
    "    without_comma = last_string.replace(',','')\n",
    "    views_int = int(without_comma)\n",
    "    views.append(views_int)  \n",
    "\n",
    "print(likes) \n",
    "print(comments)\n",
    "print(views)"
   ]
  },
  {
   "cell_type": "code",
   "execution_count": null,
   "id": "03af775a",
   "metadata": {},
   "outputs": [],
   "source": []
  }
 ],
 "metadata": {
  "kernelspec": {
   "display_name": "Python 3 (ipykernel)",
   "language": "python",
   "name": "python3"
  },
  "language_info": {
   "codemirror_mode": {
    "name": "ipython",
    "version": 3
   },
   "file_extension": ".py",
   "mimetype": "text/x-python",
   "name": "python",
   "nbconvert_exporter": "python",
   "pygments_lexer": "ipython3",
   "version": "3.9.13"
  }
 },
 "nbformat": 4,
 "nbformat_minor": 5
}
