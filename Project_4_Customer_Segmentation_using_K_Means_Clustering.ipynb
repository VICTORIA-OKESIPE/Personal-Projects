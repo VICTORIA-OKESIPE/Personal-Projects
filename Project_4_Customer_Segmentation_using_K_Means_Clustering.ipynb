{
  "nbformat": 4,
  "nbformat_minor": 0,
  "metadata": {
    "colab": {
      "provenance": [],
      "authorship_tag": "ABX9TyMzb0y6wioh4cu3FyKoXiqp",
      "include_colab_link": true
    },
    "kernelspec": {
      "name": "python3",
      "display_name": "Python 3"
    },
    "language_info": {
      "name": "python"
    }
  },
  "cells": [
    {
      "cell_type": "markdown",
      "metadata": {
        "id": "view-in-github",
        "colab_type": "text"
      },
      "source": [
        "<a href=\"https://colab.research.google.com/github/VICTORIA-OKESIPE/Personal-Projects/blob/main/Project_4_Customer_Segmentation_using_K_Means_Clustering.ipynb\" target=\"_parent\"><img src=\"https://colab.research.google.com/assets/colab-badge.svg\" alt=\"Open In Colab\"/></a>"
      ]
    },
    {
      "cell_type": "markdown",
      "source": [
        "# Business Case\n",
        "\n",
        "- Finding the most profitable customer group within the entire groups of customers."
      ],
      "metadata": {
        "id": "knv5nlc4DcZT"
      }
    },
    {
      "cell_type": "code",
      "execution_count": null,
      "metadata": {
        "id": "--eE4rXQC2la"
      },
      "outputs": [],
      "source": []
    },
    {
      "cell_type": "markdown",
      "source": [
        "# Prepare the data\n",
        "\n",
        "- The more data, the merrier it is, in this case. Helpful to find more patterns, more trends within the data.\n"
      ],
      "metadata": {
        "id": "tleFdqhTDcwZ"
      }
    },
    {
      "cell_type": "code",
      "source": [],
      "metadata": {
        "id": "ktXxzXRzDnUy"
      },
      "execution_count": null,
      "outputs": []
    },
    {
      "cell_type": "markdown",
      "source": [
        "# Data Analysis and Exploration"
      ],
      "metadata": {
        "id": "tWKqit7PDc4Z"
      }
    },
    {
      "cell_type": "code",
      "source": [],
      "metadata": {
        "id": "tEf8BYE0DrpR"
      },
      "execution_count": null,
      "outputs": []
    },
    {
      "cell_type": "markdown",
      "source": [
        "# Clustering Analysis"
      ],
      "metadata": {
        "id": "E5EgSd8qDdCg"
      }
    },
    {
      "cell_type": "code",
      "source": [],
      "metadata": {
        "id": "0OdJpSW_DvjL"
      },
      "execution_count": null,
      "outputs": []
    },
    {
      "cell_type": "markdown",
      "source": [
        "# Choosing Optimal Hyperparameters"
      ],
      "metadata": {
        "id": "KaVFNzF3DdKa"
      }
    },
    {
      "cell_type": "code",
      "source": [],
      "metadata": {
        "id": "ydLIDu-KD1NQ"
      },
      "execution_count": null,
      "outputs": []
    },
    {
      "cell_type": "markdown",
      "source": [
        "# Visualization and Interpretation"
      ],
      "metadata": {
        "id": "ENqhHNVnDeOw"
      }
    },
    {
      "cell_type": "markdown",
      "source": [],
      "metadata": {
        "id": "BVnK0mOEDe9I"
      }
    }
  ]
}