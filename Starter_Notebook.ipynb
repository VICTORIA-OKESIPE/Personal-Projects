{
 "cells": [
  {
   "cell_type": "markdown",
   "metadata": {},
   "source": [
    "# Starter Notebook: AIMS Data Science Hackathon by Microsoft\n",
    "\n",
    "Welcome! This starter notebook is designed to get you started on the AIMS Data Science Hackathon, where you will be attempting to predict a measure of wealth for different locations across Africa. We will take a look at the data, create a model and then use that to make our first submission. After that we will briefly look at some ways to improve. Let's get started."
   ]
  },
  {
   "cell_type": "markdown",
   "metadata": {},
   "source": [
    "# Loading the Data\n",
    "\n",
    "We're using the pandas library to load the data into dataframes - a tabular data structure that is perfect for this kind of work. Each of the three CSV files from Zindi is loaded into a dataframe and we take a look at the shape of the data (number of rows and columns) as well as a preview of the first 5 rows to get a feel for what we're working with."
   ]
  },
  {
   "cell_type": "code",
   "execution_count": 1,
   "metadata": {},
   "outputs": [],
   "source": [
    "import pandas as pd"
   ]
  },
  {
   "cell_type": "code",
   "execution_count": 2,
   "metadata": {},
   "outputs": [
    {
     "name": "stdout",
     "output_type": "stream",
     "text": [
      "(21454, 19)\n"
     ]
    },
    {
     "data": {
      "text/html": [
       "<div>\n",
       "<style scoped>\n",
       "    .dataframe tbody tr th:only-of-type {\n",
       "        vertical-align: middle;\n",
       "    }\n",
       "\n",
       "    .dataframe tbody tr th {\n",
       "        vertical-align: top;\n",
       "    }\n",
       "\n",
       "    .dataframe thead th {\n",
       "        text-align: right;\n",
       "    }\n",
       "</style>\n",
       "<table border=\"1\" class=\"dataframe\">\n",
       "  <thead>\n",
       "    <tr style=\"text-align: right;\">\n",
       "      <th></th>\n",
       "      <th>ID</th>\n",
       "      <th>country</th>\n",
       "      <th>year</th>\n",
       "      <th>urban_or_rural</th>\n",
       "      <th>ghsl_water_surface</th>\n",
       "      <th>ghsl_built_pre_1975</th>\n",
       "      <th>ghsl_built_1975_to_1990</th>\n",
       "      <th>ghsl_built_1990_to_2000</th>\n",
       "      <th>ghsl_built_2000_to_2014</th>\n",
       "      <th>ghsl_not_built_up</th>\n",
       "      <th>ghsl_pop_density</th>\n",
       "      <th>landcover_crops_fraction</th>\n",
       "      <th>landcover_urban_fraction</th>\n",
       "      <th>landcover_water_permanent_10km_fraction</th>\n",
       "      <th>landcover_water_seasonal_10km_fraction</th>\n",
       "      <th>nighttime_lights</th>\n",
       "      <th>dist_to_capital</th>\n",
       "      <th>dist_to_shoreline</th>\n",
       "      <th>Target</th>\n",
       "    </tr>\n",
       "  </thead>\n",
       "  <tbody>\n",
       "    <tr>\n",
       "      <th>0</th>\n",
       "      <td>ID_FozRqdOb</td>\n",
       "      <td>Kenya</td>\n",
       "      <td>2014</td>\n",
       "      <td>R</td>\n",
       "      <td>0.000000</td>\n",
       "      <td>0.000168</td>\n",
       "      <td>0.001421</td>\n",
       "      <td>0.002692</td>\n",
       "      <td>0.002674</td>\n",
       "      <td>0.993045</td>\n",
       "      <td>50.425021</td>\n",
       "      <td>24.253201</td>\n",
       "      <td>1.445659</td>\n",
       "      <td>0.005773</td>\n",
       "      <td>0.012893</td>\n",
       "      <td>5.049761</td>\n",
       "      <td>422.115084</td>\n",
       "      <td>9.722168</td>\n",
       "      <td>0.287117</td>\n",
       "    </tr>\n",
       "    <tr>\n",
       "      <th>1</th>\n",
       "      <td>ID_FVZwryih</td>\n",
       "      <td>Mali</td>\n",
       "      <td>2012</td>\n",
       "      <td>U</td>\n",
       "      <td>0.044830</td>\n",
       "      <td>0.099422</td>\n",
       "      <td>0.312117</td>\n",
       "      <td>0.017019</td>\n",
       "      <td>0.179486</td>\n",
       "      <td>0.347125</td>\n",
       "      <td>538.662650</td>\n",
       "      <td>5.607670</td>\n",
       "      <td>67.043337</td>\n",
       "      <td>1.996433</td>\n",
       "      <td>3.865877</td>\n",
       "      <td>48.076082</td>\n",
       "      <td>9.175895</td>\n",
       "      <td>692.426122</td>\n",
       "      <td>0.672988</td>\n",
       "    </tr>\n",
       "    <tr>\n",
       "      <th>2</th>\n",
       "      <td>ID_xcldHqPg</td>\n",
       "      <td>Sierra Leone</td>\n",
       "      <td>2013</td>\n",
       "      <td>R</td>\n",
       "      <td>0.000000</td>\n",
       "      <td>0.009695</td>\n",
       "      <td>0.002337</td>\n",
       "      <td>0.010204</td>\n",
       "      <td>0.022974</td>\n",
       "      <td>0.954791</td>\n",
       "      <td>18.041226</td>\n",
       "      <td>4.646198</td>\n",
       "      <td>5.546402</td>\n",
       "      <td>0.012301</td>\n",
       "      <td>0.439747</td>\n",
       "      <td>0.000000</td>\n",
       "      <td>144.744273</td>\n",
       "      <td>103.273286</td>\n",
       "      <td>0.321001</td>\n",
       "    </tr>\n",
       "    <tr>\n",
       "      <th>3</th>\n",
       "      <td>ID_LehEWHBQ</td>\n",
       "      <td>Ghana</td>\n",
       "      <td>2014</td>\n",
       "      <td>U</td>\n",
       "      <td>0.000000</td>\n",
       "      <td>0.004528</td>\n",
       "      <td>0.009562</td>\n",
       "      <td>0.004075</td>\n",
       "      <td>0.013226</td>\n",
       "      <td>0.968610</td>\n",
       "      <td>77.543652</td>\n",
       "      <td>43.613530</td>\n",
       "      <td>12.698057</td>\n",
       "      <td>2.336585</td>\n",
       "      <td>2.693757</td>\n",
       "      <td>6.832911</td>\n",
       "      <td>597.690289</td>\n",
       "      <td>593.571599</td>\n",
       "      <td>0.580136</td>\n",
       "    </tr>\n",
       "    <tr>\n",
       "      <th>4</th>\n",
       "      <td>ID_NYBnpVqJ</td>\n",
       "      <td>Guinea</td>\n",
       "      <td>1999</td>\n",
       "      <td>U</td>\n",
       "      <td>0.301125</td>\n",
       "      <td>0.482007</td>\n",
       "      <td>0.084429</td>\n",
       "      <td>0.029285</td>\n",
       "      <td>0.021303</td>\n",
       "      <td>0.081850</td>\n",
       "      <td>530.726927</td>\n",
       "      <td>0.727751</td>\n",
       "      <td>86.264768</td>\n",
       "      <td>2.658005</td>\n",
       "      <td>2.310007</td>\n",
       "      <td>30.920989</td>\n",
       "      <td>10.503972</td>\n",
       "      <td>12.370302</td>\n",
       "      <td>0.467638</td>\n",
       "    </tr>\n",
       "  </tbody>\n",
       "</table>\n",
       "</div>"
      ],
      "text/plain": [
       "            ID       country  year urban_or_rural  ghsl_water_surface  \\\n",
       "0  ID_FozRqdOb         Kenya  2014              R            0.000000   \n",
       "1  ID_FVZwryih          Mali  2012              U            0.044830   \n",
       "2  ID_xcldHqPg  Sierra Leone  2013              R            0.000000   \n",
       "3  ID_LehEWHBQ         Ghana  2014              U            0.000000   \n",
       "4  ID_NYBnpVqJ        Guinea  1999              U            0.301125   \n",
       "\n",
       "   ghsl_built_pre_1975  ghsl_built_1975_to_1990  ghsl_built_1990_to_2000  \\\n",
       "0             0.000168                 0.001421                 0.002692   \n",
       "1             0.099422                 0.312117                 0.017019   \n",
       "2             0.009695                 0.002337                 0.010204   \n",
       "3             0.004528                 0.009562                 0.004075   \n",
       "4             0.482007                 0.084429                 0.029285   \n",
       "\n",
       "   ghsl_built_2000_to_2014  ghsl_not_built_up  ghsl_pop_density  \\\n",
       "0                 0.002674           0.993045         50.425021   \n",
       "1                 0.179486           0.347125        538.662650   \n",
       "2                 0.022974           0.954791         18.041226   \n",
       "3                 0.013226           0.968610         77.543652   \n",
       "4                 0.021303           0.081850        530.726927   \n",
       "\n",
       "   landcover_crops_fraction  landcover_urban_fraction  \\\n",
       "0                 24.253201                  1.445659   \n",
       "1                  5.607670                 67.043337   \n",
       "2                  4.646198                  5.546402   \n",
       "3                 43.613530                 12.698057   \n",
       "4                  0.727751                 86.264768   \n",
       "\n",
       "   landcover_water_permanent_10km_fraction  \\\n",
       "0                                 0.005773   \n",
       "1                                 1.996433   \n",
       "2                                 0.012301   \n",
       "3                                 2.336585   \n",
       "4                                 2.658005   \n",
       "\n",
       "   landcover_water_seasonal_10km_fraction  nighttime_lights  dist_to_capital  \\\n",
       "0                                0.012893          5.049761       422.115084   \n",
       "1                                3.865877         48.076082         9.175895   \n",
       "2                                0.439747          0.000000       144.744273   \n",
       "3                                2.693757          6.832911       597.690289   \n",
       "4                                2.310007         30.920989        10.503972   \n",
       "\n",
       "   dist_to_shoreline    Target  \n",
       "0           9.722168  0.287117  \n",
       "1         692.426122  0.672988  \n",
       "2         103.273286  0.321001  \n",
       "3         593.571599  0.580136  \n",
       "4          12.370302  0.467638  "
      ]
     },
     "execution_count": 2,
     "metadata": {},
     "output_type": "execute_result"
    }
   ],
   "source": [
    "train = pd.read_csv('Train.csv')\n",
    "print(train.shape)\n",
    "train.head()"
   ]
  },
  {
   "cell_type": "markdown",
   "metadata": {},
   "source": [
    "In train, we have a set of inputs (like 'urban_or_rural' or 'ghsl_water_surface') and our desired output variable, 'Target'. There are 21454 rows - lots of juicy data!"
   ]
  },
  {
   "cell_type": "code",
   "execution_count": 3,
   "metadata": {},
   "outputs": [
    {
     "name": "stdout",
     "output_type": "stream",
     "text": [
      "(7194, 18)\n"
     ]
    },
    {
     "data": {
      "text/html": [
       "<div>\n",
       "<style scoped>\n",
       "    .dataframe tbody tr th:only-of-type {\n",
       "        vertical-align: middle;\n",
       "    }\n",
       "\n",
       "    .dataframe tbody tr th {\n",
       "        vertical-align: top;\n",
       "    }\n",
       "\n",
       "    .dataframe thead th {\n",
       "        text-align: right;\n",
       "    }\n",
       "</style>\n",
       "<table border=\"1\" class=\"dataframe\">\n",
       "  <thead>\n",
       "    <tr style=\"text-align: right;\">\n",
       "      <th></th>\n",
       "      <th>ID</th>\n",
       "      <th>country</th>\n",
       "      <th>year</th>\n",
       "      <th>urban_or_rural</th>\n",
       "      <th>ghsl_water_surface</th>\n",
       "      <th>ghsl_built_pre_1975</th>\n",
       "      <th>ghsl_built_1975_to_1990</th>\n",
       "      <th>ghsl_built_1990_to_2000</th>\n",
       "      <th>ghsl_built_2000_to_2014</th>\n",
       "      <th>ghsl_not_built_up</th>\n",
       "      <th>ghsl_pop_density</th>\n",
       "      <th>landcover_crops_fraction</th>\n",
       "      <th>landcover_urban_fraction</th>\n",
       "      <th>landcover_water_permanent_10km_fraction</th>\n",
       "      <th>landcover_water_seasonal_10km_fraction</th>\n",
       "      <th>nighttime_lights</th>\n",
       "      <th>dist_to_capital</th>\n",
       "      <th>dist_to_shoreline</th>\n",
       "    </tr>\n",
       "  </thead>\n",
       "  <tbody>\n",
       "    <tr>\n",
       "      <th>0</th>\n",
       "      <td>ID_sSinQhqP</td>\n",
       "      <td>Uganda</td>\n",
       "      <td>2014</td>\n",
       "      <td>U</td>\n",
       "      <td>0.000000</td>\n",
       "      <td>0.109392</td>\n",
       "      <td>0.059444</td>\n",
       "      <td>0.186042</td>\n",
       "      <td>0.178758</td>\n",
       "      <td>0.466364</td>\n",
       "      <td>258.780194</td>\n",
       "      <td>9.486139</td>\n",
       "      <td>63.483904</td>\n",
       "      <td>0.241482</td>\n",
       "      <td>3.022652</td>\n",
       "      <td>29.380714</td>\n",
       "      <td>10.079383</td>\n",
       "      <td>903.180920</td>\n",
       "    </tr>\n",
       "    <tr>\n",
       "      <th>1</th>\n",
       "      <td>ID_jvZoqYpZ</td>\n",
       "      <td>Zimbabwe</td>\n",
       "      <td>2005</td>\n",
       "      <td>U</td>\n",
       "      <td>0.000000</td>\n",
       "      <td>0.145449</td>\n",
       "      <td>0.208129</td>\n",
       "      <td>0.019516</td>\n",
       "      <td>0.024637</td>\n",
       "      <td>0.602269</td>\n",
       "      <td>320.458259</td>\n",
       "      <td>13.576318</td>\n",
       "      <td>50.031295</td>\n",
       "      <td>0.005033</td>\n",
       "      <td>0.017421</td>\n",
       "      <td>33.823091</td>\n",
       "      <td>367.361796</td>\n",
       "      <td>635.830975</td>\n",
       "    </tr>\n",
       "    <tr>\n",
       "      <th>2</th>\n",
       "      <td>ID_tLfuexnp</td>\n",
       "      <td>Zambia</td>\n",
       "      <td>2007</td>\n",
       "      <td>R</td>\n",
       "      <td>0.000000</td>\n",
       "      <td>0.000000</td>\n",
       "      <td>0.000000</td>\n",
       "      <td>0.000000</td>\n",
       "      <td>0.000000</td>\n",
       "      <td>1.000000</td>\n",
       "      <td>0.000000</td>\n",
       "      <td>5.532041</td>\n",
       "      <td>0.705257</td>\n",
       "      <td>0.108422</td>\n",
       "      <td>5.848221</td>\n",
       "      <td>0.000000</td>\n",
       "      <td>645.284564</td>\n",
       "      <td>880.374661</td>\n",
       "    </tr>\n",
       "    <tr>\n",
       "      <th>3</th>\n",
       "      <td>ID_ubXQyliz</td>\n",
       "      <td>Burkina Faso</td>\n",
       "      <td>2010</td>\n",
       "      <td>R</td>\n",
       "      <td>0.000000</td>\n",
       "      <td>0.000000</td>\n",
       "      <td>0.000000</td>\n",
       "      <td>0.000071</td>\n",
       "      <td>0.000018</td>\n",
       "      <td>0.999911</td>\n",
       "      <td>0.646672</td>\n",
       "      <td>34.283514</td>\n",
       "      <td>0.668021</td>\n",
       "      <td>0.066050</td>\n",
       "      <td>0.679872</td>\n",
       "      <td>0.000000</td>\n",
       "      <td>109.626643</td>\n",
       "      <td>785.424385</td>\n",
       "    </tr>\n",
       "    <tr>\n",
       "      <th>4</th>\n",
       "      <td>ID_HQVlNyEW</td>\n",
       "      <td>Zambia</td>\n",
       "      <td>2013</td>\n",
       "      <td>U</td>\n",
       "      <td>0.002048</td>\n",
       "      <td>0.008021</td>\n",
       "      <td>0.009536</td>\n",
       "      <td>0.008365</td>\n",
       "      <td>0.012668</td>\n",
       "      <td>0.959361</td>\n",
       "      <td>128.222499</td>\n",
       "      <td>21.188630</td>\n",
       "      <td>20.417557</td>\n",
       "      <td>0.098655</td>\n",
       "      <td>0.118705</td>\n",
       "      <td>9.389921</td>\n",
       "      <td>206.027541</td>\n",
       "      <td>862.343641</td>\n",
       "    </tr>\n",
       "  </tbody>\n",
       "</table>\n",
       "</div>"
      ],
      "text/plain": [
       "            ID       country  year urban_or_rural  ghsl_water_surface  \\\n",
       "0  ID_sSinQhqP        Uganda  2014              U            0.000000   \n",
       "1  ID_jvZoqYpZ      Zimbabwe  2005              U            0.000000   \n",
       "2  ID_tLfuexnp        Zambia  2007              R            0.000000   \n",
       "3  ID_ubXQyliz  Burkina Faso  2010              R            0.000000   \n",
       "4  ID_HQVlNyEW        Zambia  2013              U            0.002048   \n",
       "\n",
       "   ghsl_built_pre_1975  ghsl_built_1975_to_1990  ghsl_built_1990_to_2000  \\\n",
       "0             0.109392                 0.059444                 0.186042   \n",
       "1             0.145449                 0.208129                 0.019516   \n",
       "2             0.000000                 0.000000                 0.000000   \n",
       "3             0.000000                 0.000000                 0.000071   \n",
       "4             0.008021                 0.009536                 0.008365   \n",
       "\n",
       "   ghsl_built_2000_to_2014  ghsl_not_built_up  ghsl_pop_density  \\\n",
       "0                 0.178758           0.466364        258.780194   \n",
       "1                 0.024637           0.602269        320.458259   \n",
       "2                 0.000000           1.000000          0.000000   \n",
       "3                 0.000018           0.999911          0.646672   \n",
       "4                 0.012668           0.959361        128.222499   \n",
       "\n",
       "   landcover_crops_fraction  landcover_urban_fraction  \\\n",
       "0                  9.486139                 63.483904   \n",
       "1                 13.576318                 50.031295   \n",
       "2                  5.532041                  0.705257   \n",
       "3                 34.283514                  0.668021   \n",
       "4                 21.188630                 20.417557   \n",
       "\n",
       "   landcover_water_permanent_10km_fraction  \\\n",
       "0                                 0.241482   \n",
       "1                                 0.005033   \n",
       "2                                 0.108422   \n",
       "3                                 0.066050   \n",
       "4                                 0.098655   \n",
       "\n",
       "   landcover_water_seasonal_10km_fraction  nighttime_lights  dist_to_capital  \\\n",
       "0                                3.022652         29.380714        10.079383   \n",
       "1                                0.017421         33.823091       367.361796   \n",
       "2                                5.848221          0.000000       645.284564   \n",
       "3                                0.679872          0.000000       109.626643   \n",
       "4                                0.118705          9.389921       206.027541   \n",
       "\n",
       "   dist_to_shoreline  \n",
       "0         903.180920  \n",
       "1         635.830975  \n",
       "2         880.374661  \n",
       "3         785.424385  \n",
       "4         862.343641  "
      ]
     },
     "execution_count": 3,
     "metadata": {},
     "output_type": "execute_result"
    }
   ],
   "source": [
    "test = pd.read_csv('Test.csv')\n",
    "print(test.shape)\n",
    "test.head()"
   ]
  },
  {
   "cell_type": "markdown",
   "metadata": {},
   "source": [
    "Test looks just like train but without the 'Target' column and with fewer rows."
   ]
  },
  {
   "cell_type": "code",
   "execution_count": 4,
   "metadata": {},
   "outputs": [
    {
     "name": "stdout",
     "output_type": "stream",
     "text": [
      "(7194, 2)\n"
     ]
    },
    {
     "data": {
      "text/html": [
       "<div>\n",
       "<style scoped>\n",
       "    .dataframe tbody tr th:only-of-type {\n",
       "        vertical-align: middle;\n",
       "    }\n",
       "\n",
       "    .dataframe tbody tr th {\n",
       "        vertical-align: top;\n",
       "    }\n",
       "\n",
       "    .dataframe thead th {\n",
       "        text-align: right;\n",
       "    }\n",
       "</style>\n",
       "<table border=\"1\" class=\"dataframe\">\n",
       "  <thead>\n",
       "    <tr style=\"text-align: right;\">\n",
       "      <th></th>\n",
       "      <th>ID</th>\n",
       "      <th>Target</th>\n",
       "    </tr>\n",
       "  </thead>\n",
       "  <tbody>\n",
       "    <tr>\n",
       "      <th>0</th>\n",
       "      <td>ID_sSinQhqP</td>\n",
       "      <td>0</td>\n",
       "    </tr>\n",
       "    <tr>\n",
       "      <th>1</th>\n",
       "      <td>ID_jvZoqYpZ</td>\n",
       "      <td>0</td>\n",
       "    </tr>\n",
       "    <tr>\n",
       "      <th>2</th>\n",
       "      <td>ID_tLfuexnp</td>\n",
       "      <td>0</td>\n",
       "    </tr>\n",
       "    <tr>\n",
       "      <th>3</th>\n",
       "      <td>ID_ubXQyliz</td>\n",
       "      <td>0</td>\n",
       "    </tr>\n",
       "    <tr>\n",
       "      <th>4</th>\n",
       "      <td>ID_HQVlNyEW</td>\n",
       "      <td>0</td>\n",
       "    </tr>\n",
       "  </tbody>\n",
       "</table>\n",
       "</div>"
      ],
      "text/plain": [
       "            ID  Target\n",
       "0  ID_sSinQhqP       0\n",
       "1  ID_jvZoqYpZ       0\n",
       "2  ID_tLfuexnp       0\n",
       "3  ID_ubXQyliz       0\n",
       "4  ID_HQVlNyEW       0"
      ]
     },
     "execution_count": 4,
     "metadata": {},
     "output_type": "execute_result"
    }
   ],
   "source": [
    "ss = pd.read_csv('SampleSubmission.csv')\n",
    "print(ss.shape)\n",
    "ss.head()"
   ]
  },
  {
   "cell_type": "markdown",
   "metadata": {},
   "source": [
    "The sample submission is just the ID column from test with a 'Target' column where we will put out predictions.\n",
    "\n",
    "Now that we have the data loaded, we can start exploring."
   ]
  },
  {
   "cell_type": "markdown",
   "metadata": {},
   "source": [
    "# EDA\n",
    "\n",
    "We will explore some trends in the data and look for any anomalies such as missing data. A few examples are done here but you can explore much further yourself and get to know the data better.\n",
    "\n",
    "First up: let's see how an input like 'nighttime lights' relates to the target column:"
   ]
  },
  {
   "cell_type": "code",
   "execution_count": 5,
   "metadata": {},
   "outputs": [
    {
     "data": {
      "text/plain": [
       "<matplotlib.axes._subplots.AxesSubplot at 0x7f139a1cfed0>"
      ]
     },
     "execution_count": 5,
     "metadata": {},
     "output_type": "execute_result"
    },
    {
     "data": {
      "image/png": "[encoded data removed]",
      "text/plain": [
       "<Figure size 432x288 with 1 Axes>"
      ]
     },
     "metadata": {
      "needs_background": "light"
     },
     "output_type": "display_data"
    }
   ],
   "source": [
    "# Plotting the relationship between an input column and the target\n",
    "train.plot(x='nighttime_lights', y='Target', kind='scatter', alpha=0.2)"
   ]
  },
  {
   "cell_type": "code",
   "execution_count": 6,
   "metadata": {},
   "outputs": [],
   "source": [
    "# Exercise: Try this with different inputs. Any unexpected trends?"
   ]
  },
  {
   "cell_type": "markdown",
   "metadata": {},
   "source": [
    "As you might have guessed, places that emit more light tend to be wealthier, but there is a lot of variation.\n",
    "\n",
    "We can also look at categorical columns like 'country' or 'urban_vs_rural' and see the distribution of the target for each group:"
   ]
  },
  {
   "cell_type": "code",
   "execution_count": 7,
   "metadata": {},
   "outputs": [
    {
     "data": {
      "text/plain": [
       "<matplotlib.axes._subplots.AxesSubplot at 0x7f1399bfb990>"
      ]
     },
     "execution_count": 7,
     "metadata": {},
     "output_type": "execute_result"
    },
    {
     "data": {
      "image/png": "[encoded data removed]",
      "text/plain": [
       "<Figure size 864x576 with 1 Axes>"
      ]
     },
     "metadata": {
      "needs_background": "light"
     },
     "output_type": "display_data"
    }
   ],
   "source": [
    "# Looking at the wealth distribution for urban vs rural\n",
    "train.boxplot(by='urban_or_rural', column='Target', figsize=(12, 8))"
   ]
  },
  {
   "cell_type": "code",
   "execution_count": 8,
   "metadata": {},
   "outputs": [],
   "source": [
    "# Exercise: which is the country with the higest average wealth_index according to this dataset?"
   ]
  },
  {
   "cell_type": "markdown",
   "metadata": {},
   "source": [
    "Again, not unexpected. Rural areas tend to be less wealthy than urban areas.\n",
    "\n",
    "Now the scary question: do we have missing data to deal with?"
   ]
  },
  {
   "cell_type": "code",
   "execution_count": 9,
   "metadata": {},
   "outputs": [
    {
     "data": {
      "text/plain": [
       "ID                                         0\n",
       "country                                    0\n",
       "year                                       0\n",
       "urban_or_rural                             0\n",
       "ghsl_water_surface                         0\n",
       "ghsl_built_pre_1975                        0\n",
       "ghsl_built_1975_to_1990                    0\n",
       "ghsl_built_1990_to_2000                    0\n",
       "ghsl_built_2000_to_2014                    0\n",
       "ghsl_not_built_up                          0\n",
       "ghsl_pop_density                           0\n",
       "landcover_crops_fraction                   0\n",
       "landcover_urban_fraction                   0\n",
       "landcover_water_permanent_10km_fraction    0\n",
       "landcover_water_seasonal_10km_fraction     0\n",
       "nighttime_lights                           0\n",
       "dist_to_capital                            0\n",
       "dist_to_shoreline                          0\n",
       "Target                                     0\n",
       "dtype: int64"
      ]
     },
     "execution_count": 9,
     "metadata": {},
     "output_type": "execute_result"
    }
   ],
   "source": [
    "train.isna().sum() # Hooray - no missing data!"
   ]
  },
  {
   "cell_type": "markdown",
   "metadata": {},
   "source": [
    "See what other trends you can uncover - we have only scratched the surface here. "
   ]
  },
  {
   "cell_type": "code",
   "execution_count": 10,
   "metadata": {},
   "outputs": [],
   "source": [
    "# Exercise: explore the data further"
   ]
  },
  {
   "cell_type": "markdown",
   "metadata": {},
   "source": [
    "# Modelling\n",
    "\n",
    "We've had a look at our data and it looks good! Let's see if we can create a model to predict the Target given some of our inputs. To start with we will use only the numeric columns, so that we can fit a model right away. "
   ]
  },
  {
   "cell_type": "code",
   "execution_count": 11,
   "metadata": {},
   "outputs": [
    {
     "name": "stdout",
     "output_type": "stream",
     "text": [
      "Input columns: ['ghsl_water_surface', 'ghsl_built_pre_1975', 'ghsl_built_1975_to_1990', 'ghsl_built_1990_to_2000', 'ghsl_built_2000_to_2014', 'ghsl_not_built_up', 'ghsl_pop_density', 'landcover_crops_fraction', 'landcover_urban_fraction', 'landcover_water_permanent_10km_fraction', 'landcover_water_seasonal_10km_fraction', 'nighttime_lights', 'dist_to_capital', 'dist_to_shoreline']\n"
     ]
    }
   ],
   "source": [
    "in_cols = list(train.columns[4:-1])\n",
    "print('Input columns:', in_cols)"
   ]
  },
  {
   "cell_type": "markdown",
   "metadata": {},
   "source": [
    "To evaluate our model, we need to keep some data separate. We will split out data into X (inputs) and y (output) and then further split into train and test sets with the following code:"
   ]
  },
  {
   "cell_type": "code",
   "execution_count": 12,
   "metadata": {},
   "outputs": [
    {
     "name": "stdout",
     "output_type": "stream",
     "text": [
      "(17163, 14) (4291, 14)\n"
     ]
    }
   ],
   "source": [
    "from sklearn.model_selection import train_test_split\n",
    "\n",
    "X, y = train[in_cols], train['Target']\n",
    "X_train, X_test, y_train, y_test = train_test_split(X, y, test_size=0.2, random_state=58) # Random state keeps the split consistent\n",
    "print(X_train.shape, X_test.shape)"
   ]
  },
  {
   "cell_type": "markdown",
   "metadata": {},
   "source": [
    "We now have a nice test set of ~4200 rows. We will train our model and then use this test set to calculate our score."
   ]
  },
  {
   "cell_type": "code",
   "execution_count": 13,
   "metadata": {},
   "outputs": [
    {
     "data": {
      "text/plain": [
       "0.701354568937301"
      ]
     },
     "execution_count": 13,
     "metadata": {},
     "output_type": "execute_result"
    }
   ],
   "source": [
    "from sklearn.ensemble import RandomForestRegressor\n",
    "\n",
    "model = RandomForestRegressor() # Create the model\n",
    "model.fit(X_train, y_train) # Train it (this syntax looks the same for all sklearn models)\n",
    "model.score(X_test, y_test) # Show a score"
   ]
  },
  {
   "cell_type": "markdown",
   "metadata": {},
   "source": [
    "What is the score above? The default for regression models is the R^2 score, a measure of how well the mode does at predicting the target. 0.69 is pretty good - let's plot the predictions vs the actual values and see how close it looks to a straight line:"
   ]
  },
  {
   "cell_type": "code",
   "execution_count": 14,
   "metadata": {},
   "outputs": [
    {
     "data": {
      "text/plain": [
       "<matplotlib.collections.PathCollection at 0x7f1391ebb710>"
      ]
     },
     "execution_count": 14,
     "metadata": {},
     "output_type": "execute_result"
    },
    {
     "data": {
      "image/png": "[encoded data removed]",
      "text/plain": [
       "<Figure size 432x288 with 1 Axes>"
      ]
     },
     "metadata": {
      "needs_background": "light"
     },
     "output_type": "display_data"
    }
   ],
   "source": [
    "from matplotlib import pyplot as plt\n",
    "plt.scatter(y_test, model.predict(X_test), alpha=0.3)"
   ]
  },
  {
   "cell_type": "markdown",
   "metadata": {},
   "source": [
    "This looks great - most predictions are nice and close to the true value! But we still don't have a way to link this to the leaderboard score on Zindi. Let's remedy that by calculating the Root Mean Squared Error, the same metric Zindi uses. "
   ]
  },
  {
   "cell_type": "code",
   "execution_count": 15,
   "metadata": {},
   "outputs": [
    {
     "data": {
      "text/plain": [
       "0.10586008172823101"
      ]
     },
     "execution_count": 15,
     "metadata": {},
     "output_type": "execute_result"
    }
   ],
   "source": [
    "from sklearn.metrics import mean_squared_error\n",
    "\n",
    "# The `squared=False` bit tells this function to return the ROOT mean squared error\n",
    "mean_squared_error(y_test, model.predict(X_test), squared=False)"
   ]
  },
  {
   "cell_type": "markdown",
   "metadata": {},
   "source": [
    "Great stuff. Let's make a submission and then move on to looking for ways to improve."
   ]
  },
  {
   "cell_type": "code",
   "execution_count": 16,
   "metadata": {},
   "outputs": [
    {
     "data": {
      "text/html": [
       "<div>\n",
       "<style scoped>\n",
       "    .dataframe tbody tr th:only-of-type {\n",
       "        vertical-align: middle;\n",
       "    }\n",
       "\n",
       "    .dataframe tbody tr th {\n",
       "        vertical-align: top;\n",
       "    }\n",
       "\n",
       "    .dataframe thead th {\n",
       "        text-align: right;\n",
       "    }\n",
       "</style>\n",
       "<table border=\"1\" class=\"dataframe\">\n",
       "  <thead>\n",
       "    <tr style=\"text-align: right;\">\n",
       "      <th></th>\n",
       "      <th>ID</th>\n",
       "      <th>Target</th>\n",
       "    </tr>\n",
       "  </thead>\n",
       "  <tbody>\n",
       "    <tr>\n",
       "      <th>0</th>\n",
       "      <td>ID_sSinQhqP</td>\n",
       "      <td>0.631595</td>\n",
       "    </tr>\n",
       "    <tr>\n",
       "      <th>1</th>\n",
       "      <td>ID_jvZoqYpZ</td>\n",
       "      <td>0.600302</td>\n",
       "    </tr>\n",
       "    <tr>\n",
       "      <th>2</th>\n",
       "      <td>ID_tLfuexnp</td>\n",
       "      <td>0.175044</td>\n",
       "    </tr>\n",
       "    <tr>\n",
       "      <th>3</th>\n",
       "      <td>ID_ubXQyliz</td>\n",
       "      <td>0.277712</td>\n",
       "    </tr>\n",
       "    <tr>\n",
       "      <th>4</th>\n",
       "      <td>ID_HQVlNyEW</td>\n",
       "      <td>0.448756</td>\n",
       "    </tr>\n",
       "  </tbody>\n",
       "</table>\n",
       "</div>"
      ],
      "text/plain": [
       "            ID    Target\n",
       "0  ID_sSinQhqP  0.631595\n",
       "1  ID_jvZoqYpZ  0.600302\n",
       "2  ID_tLfuexnp  0.175044\n",
       "3  ID_ubXQyliz  0.277712\n",
       "4  ID_HQVlNyEW  0.448756"
      ]
     },
     "execution_count": 16,
     "metadata": {},
     "output_type": "execute_result"
    }
   ],
   "source": [
    "# Copying our predictions into the submission dataframe - make sure the rows are in the same order!\n",
    "ss['Target'] = model.predict(test[in_cols]) \n",
    "ss.head()"
   ]
  },
  {
   "cell_type": "markdown",
   "metadata": {},
   "source": [
    "We now have our predictions in the right format to submit. The following line saves this to a file that you can then upload to get a score:"
   ]
  },
  {
   "cell_type": "code",
   "execution_count": 17,
   "metadata": {},
   "outputs": [],
   "source": [
    "ss.to_csv('first_submission.csv', index=False)"
   ]
  },
  {
   "cell_type": "markdown",
   "metadata": {},
   "source": [
    "# Getting Better\n",
    "\n",
    "You might have noticed that your score on Zindi wasn't as good as the one you got above. This is because the test set comes from different countries to the train set. When we did a random split, we ended up with our local train and test both coming from the same countries - and it's easier for a model to extrapolate within countries than it is for it to make predictions for a new location. \n",
    "\n",
    "So our first step might be to make a scoring function that splits the data according to country, and measures the model performance on unseen countries. Try it and share your testing methods in the discussions. And look at the following questions:\n",
    "- Does your score drop when you score your model on countries it wasn't trained with?\n",
    "- Does the new score more accurately match the leaderboard score?\n",
    "- Are any countries particularly 'hard' to make predictions in?"
   ]
  },
  {
   "cell_type": "code",
   "execution_count": 18,
   "metadata": {},
   "outputs": [],
   "source": [
    "# You code for a enw model evaluation method here"
   ]
  },
  {
   "cell_type": "markdown",
   "metadata": {},
   "source": [
    "Knowing how well our model is doing is useful, but however you measure that we also need ways to improve this performance! There are a few ways to do this:\n",
    "\n",
    "- Feed the model better data. How? Feature engineering! If we can add meaningful features the model will have more data to work with.\n",
    "- Tune your models. We used the default parameters - perhaps we can tweak some hyperparameters to make our models better\n",
    "- Try fancier models. Perhaps XGBoost or a neural network is better than Random Forest at this task\n",
    "\n",
    "Let's do a little of each. First up, let's create a numeric feature that encodes the 'urban_or_rural' column as something the model can use:"
   ]
  },
  {
   "cell_type": "code",
   "execution_count": 19,
   "metadata": {},
   "outputs": [
    {
     "data": {
      "text/html": [
       "<div>\n",
       "<style scoped>\n",
       "    .dataframe tbody tr th:only-of-type {\n",
       "        vertical-align: middle;\n",
       "    }\n",
       "\n",
       "    .dataframe tbody tr th {\n",
       "        vertical-align: top;\n",
       "    }\n",
       "\n",
       "    .dataframe thead th {\n",
       "        text-align: right;\n",
       "    }\n",
       "</style>\n",
       "<table border=\"1\" class=\"dataframe\">\n",
       "  <thead>\n",
       "    <tr style=\"text-align: right;\">\n",
       "      <th></th>\n",
       "      <th>ID</th>\n",
       "      <th>country</th>\n",
       "      <th>year</th>\n",
       "      <th>urban_or_rural</th>\n",
       "      <th>ghsl_water_surface</th>\n",
       "      <th>ghsl_built_pre_1975</th>\n",
       "      <th>ghsl_built_1975_to_1990</th>\n",
       "      <th>ghsl_built_1990_to_2000</th>\n",
       "      <th>ghsl_built_2000_to_2014</th>\n",
       "      <th>ghsl_not_built_up</th>\n",
       "      <th>ghsl_pop_density</th>\n",
       "      <th>landcover_crops_fraction</th>\n",
       "      <th>landcover_urban_fraction</th>\n",
       "      <th>landcover_water_permanent_10km_fraction</th>\n",
       "      <th>landcover_water_seasonal_10km_fraction</th>\n",
       "      <th>nighttime_lights</th>\n",
       "      <th>dist_to_capital</th>\n",
       "      <th>dist_to_shoreline</th>\n",
       "      <th>Target</th>\n",
       "      <th>is_urban</th>\n",
       "    </tr>\n",
       "  </thead>\n",
       "  <tbody>\n",
       "    <tr>\n",
       "      <th>0</th>\n",
       "      <td>ID_FozRqdOb</td>\n",
       "      <td>Kenya</td>\n",
       "      <td>2014</td>\n",
       "      <td>R</td>\n",
       "      <td>0.000000</td>\n",
       "      <td>0.000168</td>\n",
       "      <td>0.001421</td>\n",
       "      <td>0.002692</td>\n",
       "      <td>0.002674</td>\n",
       "      <td>0.993045</td>\n",
       "      <td>50.425021</td>\n",
       "      <td>24.253201</td>\n",
       "      <td>1.445659</td>\n",
       "      <td>0.005773</td>\n",
       "      <td>0.012893</td>\n",
       "      <td>5.049761</td>\n",
       "      <td>422.115084</td>\n",
       "      <td>9.722168</td>\n",
       "      <td>0.287117</td>\n",
       "      <td>0</td>\n",
       "    </tr>\n",
       "    <tr>\n",
       "      <th>1</th>\n",
       "      <td>ID_FVZwryih</td>\n",
       "      <td>Mali</td>\n",
       "      <td>2012</td>\n",
       "      <td>U</td>\n",
       "      <td>0.044830</td>\n",
       "      <td>0.099422</td>\n",
       "      <td>0.312117</td>\n",
       "      <td>0.017019</td>\n",
       "      <td>0.179486</td>\n",
       "      <td>0.347125</td>\n",
       "      <td>538.662650</td>\n",
       "      <td>5.607670</td>\n",
       "      <td>67.043337</td>\n",
       "      <td>1.996433</td>\n",
       "      <td>3.865877</td>\n",
       "      <td>48.076082</td>\n",
       "      <td>9.175895</td>\n",
       "      <td>692.426122</td>\n",
       "      <td>0.672988</td>\n",
       "      <td>1</td>\n",
       "    </tr>\n",
       "    <tr>\n",
       "      <th>2</th>\n",
       "      <td>ID_xcldHqPg</td>\n",
       "      <td>Sierra Leone</td>\n",
       "      <td>2013</td>\n",
       "      <td>R</td>\n",
       "      <td>0.000000</td>\n",
       "      <td>0.009695</td>\n",
       "      <td>0.002337</td>\n",
       "      <td>0.010204</td>\n",
       "      <td>0.022974</td>\n",
       "      <td>0.954791</td>\n",
       "      <td>18.041226</td>\n",
       "      <td>4.646198</td>\n",
       "      <td>5.546402</td>\n",
       "      <td>0.012301</td>\n",
       "      <td>0.439747</td>\n",
       "      <td>0.000000</td>\n",
       "      <td>144.744273</td>\n",
       "      <td>103.273286</td>\n",
       "      <td>0.321001</td>\n",
       "      <td>0</td>\n",
       "    </tr>\n",
       "    <tr>\n",
       "      <th>3</th>\n",
       "      <td>ID_LehEWHBQ</td>\n",
       "      <td>Ghana</td>\n",
       "      <td>2014</td>\n",
       "      <td>U</td>\n",
       "      <td>0.000000</td>\n",
       "      <td>0.004528</td>\n",
       "      <td>0.009562</td>\n",
       "      <td>0.004075</td>\n",
       "      <td>0.013226</td>\n",
       "      <td>0.968610</td>\n",
       "      <td>77.543652</td>\n",
       "      <td>43.613530</td>\n",
       "      <td>12.698057</td>\n",
       "      <td>2.336585</td>\n",
       "      <td>2.693757</td>\n",
       "      <td>6.832911</td>\n",
       "      <td>597.690289</td>\n",
       "      <td>593.571599</td>\n",
       "      <td>0.580136</td>\n",
       "      <td>1</td>\n",
       "    </tr>\n",
       "    <tr>\n",
       "      <th>4</th>\n",
       "      <td>ID_NYBnpVqJ</td>\n",
       "      <td>Guinea</td>\n",
       "      <td>1999</td>\n",
       "      <td>U</td>\n",
       "      <td>0.301125</td>\n",
       "      <td>0.482007</td>\n",
       "      <td>0.084429</td>\n",
       "      <td>0.029285</td>\n",
       "      <td>0.021303</td>\n",
       "      <td>0.081850</td>\n",
       "      <td>530.726927</td>\n",
       "      <td>0.727751</td>\n",
       "      <td>86.264768</td>\n",
       "      <td>2.658005</td>\n",
       "      <td>2.310007</td>\n",
       "      <td>30.920989</td>\n",
       "      <td>10.503972</td>\n",
       "      <td>12.370302</td>\n",
       "      <td>0.467638</td>\n",
       "      <td>1</td>\n",
       "    </tr>\n",
       "  </tbody>\n",
       "</table>\n",
       "</div>"
      ],
      "text/plain": [
       "            ID       country  year urban_or_rural  ghsl_water_surface  \\\n",
       "0  ID_FozRqdOb         Kenya  2014              R            0.000000   \n",
       "1  ID_FVZwryih          Mali  2012              U            0.044830   \n",
       "2  ID_xcldHqPg  Sierra Leone  2013              R            0.000000   \n",
       "3  ID_LehEWHBQ         Ghana  2014              U            0.000000   \n",
       "4  ID_NYBnpVqJ        Guinea  1999              U            0.301125   \n",
       "\n",
       "   ghsl_built_pre_1975  ghsl_built_1975_to_1990  ghsl_built_1990_to_2000  \\\n",
       "0             0.000168                 0.001421                 0.002692   \n",
       "1             0.099422                 0.312117                 0.017019   \n",
       "2             0.009695                 0.002337                 0.010204   \n",
       "3             0.004528                 0.009562                 0.004075   \n",
       "4             0.482007                 0.084429                 0.029285   \n",
       "\n",
       "   ghsl_built_2000_to_2014  ghsl_not_built_up  ghsl_pop_density  \\\n",
       "0                 0.002674           0.993045         50.425021   \n",
       "1                 0.179486           0.347125        538.662650   \n",
       "2                 0.022974           0.954791         18.041226   \n",
       "3                 0.013226           0.968610         77.543652   \n",
       "4                 0.021303           0.081850        530.726927   \n",
       "\n",
       "   landcover_crops_fraction  landcover_urban_fraction  \\\n",
       "0                 24.253201                  1.445659   \n",
       "1                  5.607670                 67.043337   \n",
       "2                  4.646198                  5.546402   \n",
       "3                 43.613530                 12.698057   \n",
       "4                  0.727751                 86.264768   \n",
       "\n",
       "   landcover_water_permanent_10km_fraction  \\\n",
       "0                                 0.005773   \n",
       "1                                 1.996433   \n",
       "2                                 0.012301   \n",
       "3                                 2.336585   \n",
       "4                                 2.658005   \n",
       "\n",
       "   landcover_water_seasonal_10km_fraction  nighttime_lights  dist_to_capital  \\\n",
       "0                                0.012893          5.049761       422.115084   \n",
       "1                                3.865877         48.076082         9.175895   \n",
       "2                                0.439747          0.000000       144.744273   \n",
       "3                                2.693757          6.832911       597.690289   \n",
       "4                                2.310007         30.920989        10.503972   \n",
       "\n",
       "   dist_to_shoreline    Target  is_urban  \n",
       "0           9.722168  0.287117         0  \n",
       "1         692.426122  0.672988         1  \n",
       "2         103.273286  0.321001         0  \n",
       "3         593.571599  0.580136         1  \n",
       "4          12.370302  0.467638         1  "
      ]
     },
     "execution_count": 19,
     "metadata": {},
     "output_type": "execute_result"
    }
   ],
   "source": [
    "# Turning a categorical column into a numeric feature\n",
    "train['is_urban'] = (train['urban_or_rural'] == 'U').astype(int)\n",
    "test['is_urban'] = (test['urban_or_rural'] == 'U').astype(int)\n",
    "train.head()"
   ]
  },
  {
   "cell_type": "markdown",
   "metadata": {},
   "source": [
    "\n",
    "Note that whenever we add features to train, *we also need to add them to test* otherwise we won't be able to make our predictions.\n",
    "\n",
    "With this extra feature, we can fit a new model:"
   ]
  },
  {
   "cell_type": "code",
   "execution_count": 20,
   "metadata": {},
   "outputs": [
    {
     "data": {
      "text/plain": [
       "0.10209984050879255"
      ]
     },
     "execution_count": 20,
     "metadata": {},
     "output_type": "execute_result"
    }
   ],
   "source": [
    "in_cols.append('is_urban') # Adding the new features to our list of input columns\n",
    "\n",
    "# Replace this with your chosen method for evaluating a model:\n",
    "X, y = train[in_cols], train['Target']\n",
    "X_train, X_test, y_train, y_test = train_test_split(X, y, test_size=0.2, random_state=58)\n",
    "model = RandomForestRegressor()\n",
    "model.fit(X_train, y_train)\n",
    "mean_squared_error(y_test, model.predict(X_test), squared=False)"
   ]
  },
  {
   "cell_type": "markdown",
   "metadata": {},
   "source": [
    "Did your score improve?\n",
    "\n",
    "Next, let's tune our model by adjusting the maximum depth. This is one of many hyperparameters that can be tweaked on a Random Forest model. Here I just try a few randomly chosen values, but you could also use a grid search to try values more methodically."
   ]
  },
  {
   "cell_type": "code",
   "execution_count": 21,
   "metadata": {},
   "outputs": [
    {
     "name": "stdout",
     "output_type": "stream",
     "text": [
      "3 0.10170164526833571\n",
      "5 0.1021497768770867\n",
      "8 0.10160947401767634\n",
      "10 0.10203150335396224\n",
      "14 0.1017614591328629\n",
      "18 0.10178234125429858\n"
     ]
    }
   ],
   "source": [
    "for max_depth in [3, 5, 8, 10, 14, 18]:\n",
    "    model = RandomForestRegressor()\n",
    "    # Again, you van use a better method to evaluate the model here...\n",
    "    model.fit(X_train, y_train)\n",
    "    print(max_depth, mean_squared_error(y_test, model.predict(X_test), squared=False))"
   ]
  },
  {
   "cell_type": "markdown",
   "metadata": {},
   "source": [
    "In this case, it looks like we can improve our performance by specifying a max_depth to limit model complexity.\n",
    "\n",
    "Finally, let's try a different model out of curiosity:"
   ]
  },
  {
   "cell_type": "code",
   "execution_count": 22,
   "metadata": {},
   "outputs": [],
   "source": [
    "from catboost import CatBoostRegressor\n",
    "\n",
    "model = CatBoostRegressor()\n",
    "# Exercise: fit and score the model. Does it beat your other scores? Can you use it to make a submission?"
   ]
  },
  {
   "cell_type": "markdown",
   "metadata": {},
   "source": [
    "Remember, you can ask questions and share ideas in the discussions. \n",
    "\n",
    "### GOOD LUCK!"
   ]
  },
  {
   "cell_type": "code",
   "execution_count": null,
   "metadata": {},
   "outputs": [],
   "source": []
  }
 ],
 "metadata": {
  "kernelspec": {
   "display_name": "Python 3",
   "language": "python",
   "name": "python3"
  },
  "language_info": {
   "codemirror_mode": {
    "name": "ipython",
    "version": 3
   },
   "file_extension": ".py",
   "mimetype": "text/x-python",
   "name": "python",
   "nbconvert_exporter": "python",
   "pygments_lexer": "ipython3",
   "version": "3.7.6"
  }
 },
 "nbformat": 4,
 "nbformat_minor": 4
}